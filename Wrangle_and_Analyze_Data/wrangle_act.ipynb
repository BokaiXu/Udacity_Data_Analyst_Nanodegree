{
 "cells": [
  {
   "cell_type": "code",
   "execution_count": 29,
   "metadata": {},
   "outputs": [],
   "source": [
    "#Import packages\n",
    "import pandas as pd\n",
    "import numpy as np\n",
    "import matplotlib.pyplot as plt\n",
    "import requests\n",
    "import os\n",
    "import tweepy\n",
    "from tweepy import OAuthHandler\n",
    "import json\n",
    "from timeit import default_timer as timer\n",
    "from scipy import stats\n",
    "import statsmodels.api as sm\n",
    "%matplotlib inline"
   ]
  },
  {
   "cell_type": "markdown",
   "metadata": {},
   "source": [
    "## Gather"
   ]
  },
  {
   "cell_type": "code",
   "execution_count": 30,
   "metadata": {},
   "outputs": [],
   "source": [
    "#Load and read twitter_archive_enhanced.csv\n",
    "twitter= pd.read_csv('twitter_archive_enhanced.csv')"
   ]
  },
  {
   "cell_type": "code",
   "execution_count": 31,
   "metadata": {},
   "outputs": [],
   "source": [
    "#Download the image_predictions.tsv from Udacity\n",
    "url= 'https://d17h27t6h515a5.cloudfront.net/topher/2017/August/599fd2ad_image-predictions/image-predictions.tsv'\n",
    "r= requests.get(url)\n",
    "with open(os.path.join(url.split('/')[-1]),mode='wb') as file:\n",
    "    file.write(r.content)"
   ]
  },
  {
   "cell_type": "code",
   "execution_count": 32,
   "metadata": {},
   "outputs": [],
   "source": [
    "#Load and read the image-predictions.tsv\n",
    "image= pd.read_csv('image-predictions.tsv',sep='\\t')"
   ]
  },
  {
   "cell_type": "code",
   "execution_count": null,
   "metadata": {},
   "outputs": [],
   "source": [
    "# Query Twitter API for each tweet in the Twitter archive and save JSON in a text file\n",
    "# These are hidden to comply with Twitter's API terms and conditions\n",
    "consumer_key = 'HIDDEN'\n",
    "consumer_secret = 'HIDDEN'\n",
    "access_token = 'HIDDEN'\n",
    "access_secret = 'HIDDEN'\n",
    "\n",
    "auth = OAuthHandler(consumer_key, consumer_secret)\n",
    "auth.set_access_token(access_token, access_secret)\n",
    "\n",
    "api = tweepy.API(auth, wait_on_rate_limit=True)\n",
    "\n",
    "# Tweet IDs for which to gather additional data via Twitter's API\n",
    "tweet_ids = twitter.tweet_id.values\n",
    "len(tweet_ids)\n",
    "\n",
    "# Query Twitter's API for JSON data for each tweet ID in the Twitter archive\n",
    "count = 0\n",
    "fails_dict = {}\n",
    "start = timer()\n",
    "# Save each tweet's returned JSON as a new line in a .txt file\n",
    "with open('tweet_json.txt', 'w') as outfile:\n",
    "    # This loop will likely take 20-30 minutes to run because of Twitter's rate limit\n",
    "    for tweet_id in tweet_ids:\n",
    "        count += 1\n",
    "        print(str(count) + \": \" + str(tweet_id))\n",
    "        try:\n",
    "            tweet = api.get_status(tweet_id, tweet_mode='extended')\n",
    "            print(\"Success\")\n",
    "            json.dump(tweet._json, outfile)\n",
    "            outfile.write('\\n')\n",
    "        except tweepy.TweepError as e:\n",
    "            print(\"Fail\")\n",
    "            fails_dict[tweet_id] = e\n",
    "            pass\n",
    "end = timer()\n",
    "print(end - start)\n",
    "print(fails_dict)"
   ]
  },
  {
   "cell_type": "code",
   "execution_count": 33,
   "metadata": {},
   "outputs": [],
   "source": [
    "#Read the tweet_json.txt file and convert it to a pandas dataframe\n",
    "with open(\"tweet_json.txt\") as fh:\n",
    "    tweets= [json.loads(line) for line in fh if line]\n",
    "\n",
    "tweet_json= pd.DataFrame(tweets)"
   ]
  },
  {
   "cell_type": "markdown",
   "metadata": {},
   "source": [
    "## Assess"
   ]
  },
  {
   "cell_type": "code",
   "execution_count": 34,
   "metadata": {},
   "outputs": [
    {
     "data": {
      "text/html": [
       "<div>\n",
       "<style scoped>\n",
       "    .dataframe tbody tr th:only-of-type {\n",
       "        vertical-align: middle;\n",
       "    }\n",
       "\n",
       "    .dataframe tbody tr th {\n",
       "        vertical-align: top;\n",
       "    }\n",
       "\n",
       "    .dataframe thead th {\n",
       "        text-align: right;\n",
       "    }\n",
       "</style>\n",
       "<table border=\"1\" class=\"dataframe\">\n",
       "  <thead>\n",
       "    <tr style=\"text-align: right;\">\n",
       "      <th></th>\n",
       "      <th>contributors</th>\n",
       "      <th>coordinates</th>\n",
       "      <th>created_at</th>\n",
       "      <th>display_text_range</th>\n",
       "      <th>entities</th>\n",
       "      <th>extended_entities</th>\n",
       "      <th>favorite_count</th>\n",
       "      <th>favorited</th>\n",
       "      <th>full_text</th>\n",
       "      <th>geo</th>\n",
       "      <th>...</th>\n",
       "      <th>quoted_status</th>\n",
       "      <th>quoted_status_id</th>\n",
       "      <th>quoted_status_id_str</th>\n",
       "      <th>quoted_status_permalink</th>\n",
       "      <th>retweet_count</th>\n",
       "      <th>retweeted</th>\n",
       "      <th>retweeted_status</th>\n",
       "      <th>source</th>\n",
       "      <th>truncated</th>\n",
       "      <th>user</th>\n",
       "    </tr>\n",
       "  </thead>\n",
       "  <tbody>\n",
       "    <tr>\n",
       "      <th>1694</th>\n",
       "      <td>None</td>\n",
       "      <td>None</td>\n",
       "      <td>Fri Dec 25 00:00:11 +0000 2015</td>\n",
       "      <td>[0, 94]</td>\n",
       "      <td>{'hashtags': [], 'symbols': [], 'user_mentions...</td>\n",
       "      <td>{'media': [{'id': 680176161213779968, 'id_str'...</td>\n",
       "      <td>3742</td>\n",
       "      <td>False</td>\n",
       "      <td>This pupper is patiently waiting to scare the ...</td>\n",
       "      <td>None</td>\n",
       "      <td>...</td>\n",
       "      <td>NaN</td>\n",
       "      <td>NaN</td>\n",
       "      <td>NaN</td>\n",
       "      <td>NaN</td>\n",
       "      <td>1473</td>\n",
       "      <td>False</td>\n",
       "      <td>NaN</td>\n",
       "      <td>&lt;a href=\"http://twitter.com/download/iphone\" r...</td>\n",
       "      <td>False</td>\n",
       "      <td>{'id': 4196983835, 'id_str': '4196983835', 'na...</td>\n",
       "    </tr>\n",
       "    <tr>\n",
       "      <th>641</th>\n",
       "      <td>None</td>\n",
       "      <td>None</td>\n",
       "      <td>Wed Oct 26 22:31:36 +0000 2016</td>\n",
       "      <td>[0, 122]</td>\n",
       "      <td>{'hashtags': [], 'symbols': [], 'user_mentions...</td>\n",
       "      <td>{'media': [{'id': 791406944514871298, 'id_str'...</td>\n",
       "      <td>12995</td>\n",
       "      <td>False</td>\n",
       "      <td>Say hello to Levi. He's a Madagascan Butterbop...</td>\n",
       "      <td>None</td>\n",
       "      <td>...</td>\n",
       "      <td>NaN</td>\n",
       "      <td>NaN</td>\n",
       "      <td>NaN</td>\n",
       "      <td>NaN</td>\n",
       "      <td>4048</td>\n",
       "      <td>False</td>\n",
       "      <td>NaN</td>\n",
       "      <td>&lt;a href=\"http://twitter.com/download/iphone\" r...</td>\n",
       "      <td>False</td>\n",
       "      <td>{'id': 4196983835, 'id_str': '4196983835', 'na...</td>\n",
       "    </tr>\n",
       "    <tr>\n",
       "      <th>2064</th>\n",
       "      <td>None</td>\n",
       "      <td>None</td>\n",
       "      <td>Sun Nov 29 02:20:29 +0000 2015</td>\n",
       "      <td>[0, 139]</td>\n",
       "      <td>{'hashtags': [], 'symbols': [], 'user_mentions...</td>\n",
       "      <td>{'media': [{'id': 670789388759113729, 'id_str'...</td>\n",
       "      <td>612</td>\n",
       "      <td>False</td>\n",
       "      <td>Two obedient dogs here. Left one has extra leg...</td>\n",
       "      <td>None</td>\n",
       "      <td>...</td>\n",
       "      <td>NaN</td>\n",
       "      <td>NaN</td>\n",
       "      <td>NaN</td>\n",
       "      <td>NaN</td>\n",
       "      <td>219</td>\n",
       "      <td>False</td>\n",
       "      <td>NaN</td>\n",
       "      <td>&lt;a href=\"http://twitter.com/download/iphone\" r...</td>\n",
       "      <td>False</td>\n",
       "      <td>{'id': 4196983835, 'id_str': '4196983835', 'na...</td>\n",
       "    </tr>\n",
       "    <tr>\n",
       "      <th>1249</th>\n",
       "      <td>None</td>\n",
       "      <td>None</td>\n",
       "      <td>Mon Mar 14 02:39:42 +0000 2016</td>\n",
       "      <td>[0, 88]</td>\n",
       "      <td>{'hashtags': [], 'symbols': [], 'user_mentions...</td>\n",
       "      <td>{'media': [{'id': 709207338792525824, 'id_str'...</td>\n",
       "      <td>12008</td>\n",
       "      <td>False</td>\n",
       "      <td>This is Penny. She's trying on her prom dress....</td>\n",
       "      <td>None</td>\n",
       "      <td>...</td>\n",
       "      <td>NaN</td>\n",
       "      <td>NaN</td>\n",
       "      <td>NaN</td>\n",
       "      <td>NaN</td>\n",
       "      <td>5510</td>\n",
       "      <td>False</td>\n",
       "      <td>NaN</td>\n",
       "      <td>&lt;a href=\"http://twitter.com/download/iphone\" r...</td>\n",
       "      <td>False</td>\n",
       "      <td>{'id': 4196983835, 'id_str': '4196983835', 'na...</td>\n",
       "    </tr>\n",
       "    <tr>\n",
       "      <th>1904</th>\n",
       "      <td>None</td>\n",
       "      <td>None</td>\n",
       "      <td>Tue Dec 08 01:47:22 +0000 2015</td>\n",
       "      <td>[0, 94]</td>\n",
       "      <td>{'hashtags': [], 'symbols': [], 'user_mentions...</td>\n",
       "      <td>{'media': [{'id': 674042547585605633, 'id_str'...</td>\n",
       "      <td>676</td>\n",
       "      <td>False</td>\n",
       "      <td>Yea I can't handle the cuteness anymore. Curls...</td>\n",
       "      <td>None</td>\n",
       "      <td>...</td>\n",
       "      <td>NaN</td>\n",
       "      <td>NaN</td>\n",
       "      <td>NaN</td>\n",
       "      <td>NaN</td>\n",
       "      <td>117</td>\n",
       "      <td>False</td>\n",
       "      <td>NaN</td>\n",
       "      <td>&lt;a href=\"http://twitter.com/download/iphone\" r...</td>\n",
       "      <td>False</td>\n",
       "      <td>{'id': 4196983835, 'id_str': '4196983835', 'na...</td>\n",
       "    </tr>\n",
       "  </tbody>\n",
       "</table>\n",
       "<p>5 rows × 32 columns</p>\n",
       "</div>"
      ],
      "text/plain": [
       "     contributors coordinates                      created_at  \\\n",
       "1694         None        None  Fri Dec 25 00:00:11 +0000 2015   \n",
       "641          None        None  Wed Oct 26 22:31:36 +0000 2016   \n",
       "2064         None        None  Sun Nov 29 02:20:29 +0000 2015   \n",
       "1249         None        None  Mon Mar 14 02:39:42 +0000 2016   \n",
       "1904         None        None  Tue Dec 08 01:47:22 +0000 2015   \n",
       "\n",
       "     display_text_range                                           entities  \\\n",
       "1694            [0, 94]  {'hashtags': [], 'symbols': [], 'user_mentions...   \n",
       "641            [0, 122]  {'hashtags': [], 'symbols': [], 'user_mentions...   \n",
       "2064           [0, 139]  {'hashtags': [], 'symbols': [], 'user_mentions...   \n",
       "1249            [0, 88]  {'hashtags': [], 'symbols': [], 'user_mentions...   \n",
       "1904            [0, 94]  {'hashtags': [], 'symbols': [], 'user_mentions...   \n",
       "\n",
       "                                      extended_entities  favorite_count  \\\n",
       "1694  {'media': [{'id': 680176161213779968, 'id_str'...            3742   \n",
       "641   {'media': [{'id': 791406944514871298, 'id_str'...           12995   \n",
       "2064  {'media': [{'id': 670789388759113729, 'id_str'...             612   \n",
       "1249  {'media': [{'id': 709207338792525824, 'id_str'...           12008   \n",
       "1904  {'media': [{'id': 674042547585605633, 'id_str'...             676   \n",
       "\n",
       "      favorited                                          full_text   geo  \\\n",
       "1694      False  This pupper is patiently waiting to scare the ...  None   \n",
       "641       False  Say hello to Levi. He's a Madagascan Butterbop...  None   \n",
       "2064      False  Two obedient dogs here. Left one has extra leg...  None   \n",
       "1249      False  This is Penny. She's trying on her prom dress....  None   \n",
       "1904      False  Yea I can't handle the cuteness anymore. Curls...  None   \n",
       "\n",
       "                            ...                          quoted_status  \\\n",
       "1694                        ...                                    NaN   \n",
       "641                         ...                                    NaN   \n",
       "2064                        ...                                    NaN   \n",
       "1249                        ...                                    NaN   \n",
       "1904                        ...                                    NaN   \n",
       "\n",
       "     quoted_status_id quoted_status_id_str  quoted_status_permalink  \\\n",
       "1694              NaN                  NaN                      NaN   \n",
       "641               NaN                  NaN                      NaN   \n",
       "2064              NaN                  NaN                      NaN   \n",
       "1249              NaN                  NaN                      NaN   \n",
       "1904              NaN                  NaN                      NaN   \n",
       "\n",
       "     retweet_count  retweeted retweeted_status  \\\n",
       "1694          1473      False              NaN   \n",
       "641           4048      False              NaN   \n",
       "2064           219      False              NaN   \n",
       "1249          5510      False              NaN   \n",
       "1904           117      False              NaN   \n",
       "\n",
       "                                                 source truncated  \\\n",
       "1694  <a href=\"http://twitter.com/download/iphone\" r...     False   \n",
       "641   <a href=\"http://twitter.com/download/iphone\" r...     False   \n",
       "2064  <a href=\"http://twitter.com/download/iphone\" r...     False   \n",
       "1249  <a href=\"http://twitter.com/download/iphone\" r...     False   \n",
       "1904  <a href=\"http://twitter.com/download/iphone\" r...     False   \n",
       "\n",
       "                                                   user  \n",
       "1694  {'id': 4196983835, 'id_str': '4196983835', 'na...  \n",
       "641   {'id': 4196983835, 'id_str': '4196983835', 'na...  \n",
       "2064  {'id': 4196983835, 'id_str': '4196983835', 'na...  \n",
       "1249  {'id': 4196983835, 'id_str': '4196983835', 'na...  \n",
       "1904  {'id': 4196983835, 'id_str': '4196983835', 'na...  \n",
       "\n",
       "[5 rows x 32 columns]"
      ]
     },
     "execution_count": 34,
     "metadata": {},
     "output_type": "execute_result"
    }
   ],
   "source": [
    "#Check tweet_json table\n",
    "tweet_json.sample(5)"
   ]
  },
  {
   "cell_type": "code",
   "execution_count": 35,
   "metadata": {},
   "outputs": [
    {
     "name": "stdout",
     "output_type": "stream",
     "text": [
      "<class 'pandas.core.frame.DataFrame'>\n",
      "RangeIndex: 2331 entries, 0 to 2330\n",
      "Data columns (total 32 columns):\n",
      "contributors                     0 non-null object\n",
      "coordinates                      0 non-null object\n",
      "created_at                       2331 non-null object\n",
      "display_text_range               2331 non-null object\n",
      "entities                         2331 non-null object\n",
      "extended_entities                2059 non-null object\n",
      "favorite_count                   2331 non-null int64\n",
      "favorited                        2331 non-null bool\n",
      "full_text                        2331 non-null object\n",
      "geo                              0 non-null object\n",
      "id                               2331 non-null int64\n",
      "id_str                           2331 non-null object\n",
      "in_reply_to_screen_name          77 non-null object\n",
      "in_reply_to_status_id            77 non-null float64\n",
      "in_reply_to_status_id_str        77 non-null object\n",
      "in_reply_to_user_id              77 non-null float64\n",
      "in_reply_to_user_id_str          77 non-null object\n",
      "is_quote_status                  2331 non-null bool\n",
      "lang                             2331 non-null object\n",
      "place                            1 non-null object\n",
      "possibly_sensitive               2197 non-null object\n",
      "possibly_sensitive_appealable    2197 non-null object\n",
      "quoted_status                    24 non-null object\n",
      "quoted_status_id                 26 non-null float64\n",
      "quoted_status_id_str             26 non-null object\n",
      "quoted_status_permalink          26 non-null object\n",
      "retweet_count                    2331 non-null int64\n",
      "retweeted                        2331 non-null bool\n",
      "retweeted_status                 163 non-null object\n",
      "source                           2331 non-null object\n",
      "truncated                        2331 non-null bool\n",
      "user                             2331 non-null object\n",
      "dtypes: bool(4), float64(3), int64(3), object(22)\n",
      "memory usage: 519.1+ KB\n"
     ]
    }
   ],
   "source": [
    "#Check whether tweet_json table has incorrect data type and missing values\n",
    "tweet_json.info()"
   ]
  },
  {
   "cell_type": "code",
   "execution_count": 36,
   "metadata": {},
   "outputs": [
    {
     "data": {
      "text/html": [
       "<div>\n",
       "<style scoped>\n",
       "    .dataframe tbody tr th:only-of-type {\n",
       "        vertical-align: middle;\n",
       "    }\n",
       "\n",
       "    .dataframe tbody tr th {\n",
       "        vertical-align: top;\n",
       "    }\n",
       "\n",
       "    .dataframe thead th {\n",
       "        text-align: right;\n",
       "    }\n",
       "</style>\n",
       "<table border=\"1\" class=\"dataframe\">\n",
       "  <thead>\n",
       "    <tr style=\"text-align: right;\">\n",
       "      <th></th>\n",
       "      <th>favorite_count</th>\n",
       "      <th>id</th>\n",
       "      <th>in_reply_to_status_id</th>\n",
       "      <th>in_reply_to_user_id</th>\n",
       "      <th>quoted_status_id</th>\n",
       "      <th>retweet_count</th>\n",
       "    </tr>\n",
       "  </thead>\n",
       "  <tbody>\n",
       "    <tr>\n",
       "      <th>count</th>\n",
       "      <td>2331.000000</td>\n",
       "      <td>2.331000e+03</td>\n",
       "      <td>7.700000e+01</td>\n",
       "      <td>7.700000e+01</td>\n",
       "      <td>2.600000e+01</td>\n",
       "      <td>2331.000000</td>\n",
       "    </tr>\n",
       "    <tr>\n",
       "      <th>mean</th>\n",
       "      <td>7329.211497</td>\n",
       "      <td>7.419079e+17</td>\n",
       "      <td>7.440692e+17</td>\n",
       "      <td>2.040329e+16</td>\n",
       "      <td>8.113972e+17</td>\n",
       "      <td>2597.711283</td>\n",
       "    </tr>\n",
       "    <tr>\n",
       "      <th>std</th>\n",
       "      <td>11383.557313</td>\n",
       "      <td>6.823170e+16</td>\n",
       "      <td>7.524295e+16</td>\n",
       "      <td>1.260797e+17</td>\n",
       "      <td>6.295843e+16</td>\n",
       "      <td>4394.399594</td>\n",
       "    </tr>\n",
       "    <tr>\n",
       "      <th>min</th>\n",
       "      <td>0.000000</td>\n",
       "      <td>6.660209e+17</td>\n",
       "      <td>6.658147e+17</td>\n",
       "      <td>1.185634e+07</td>\n",
       "      <td>6.721083e+17</td>\n",
       "      <td>1.000000</td>\n",
       "    </tr>\n",
       "    <tr>\n",
       "      <th>25%</th>\n",
       "      <td>1272.000000</td>\n",
       "      <td>6.782670e+17</td>\n",
       "      <td>6.757073e+17</td>\n",
       "      <td>3.589728e+08</td>\n",
       "      <td>7.761338e+17</td>\n",
       "      <td>527.500000</td>\n",
       "    </tr>\n",
       "    <tr>\n",
       "      <th>50%</th>\n",
       "      <td>3182.000000</td>\n",
       "      <td>7.182469e+17</td>\n",
       "      <td>7.032559e+17</td>\n",
       "      <td>4.196984e+09</td>\n",
       "      <td>8.281173e+17</td>\n",
       "      <td>1212.000000</td>\n",
       "    </tr>\n",
       "    <tr>\n",
       "      <th>75%</th>\n",
       "      <td>8960.000000</td>\n",
       "      <td>7.986692e+17</td>\n",
       "      <td>8.233264e+17</td>\n",
       "      <td>4.196984e+09</td>\n",
       "      <td>8.637581e+17</td>\n",
       "      <td>3010.500000</td>\n",
       "    </tr>\n",
       "    <tr>\n",
       "      <th>max</th>\n",
       "      <td>150944.000000</td>\n",
       "      <td>8.924206e+17</td>\n",
       "      <td>8.862664e+17</td>\n",
       "      <td>8.405479e+17</td>\n",
       "      <td>8.860534e+17</td>\n",
       "      <td>74577.000000</td>\n",
       "    </tr>\n",
       "  </tbody>\n",
       "</table>\n",
       "</div>"
      ],
      "text/plain": [
       "       favorite_count            id  in_reply_to_status_id  \\\n",
       "count     2331.000000  2.331000e+03           7.700000e+01   \n",
       "mean      7329.211497  7.419079e+17           7.440692e+17   \n",
       "std      11383.557313  6.823170e+16           7.524295e+16   \n",
       "min          0.000000  6.660209e+17           6.658147e+17   \n",
       "25%       1272.000000  6.782670e+17           6.757073e+17   \n",
       "50%       3182.000000  7.182469e+17           7.032559e+17   \n",
       "75%       8960.000000  7.986692e+17           8.233264e+17   \n",
       "max     150944.000000  8.924206e+17           8.862664e+17   \n",
       "\n",
       "       in_reply_to_user_id  quoted_status_id  retweet_count  \n",
       "count         7.700000e+01      2.600000e+01    2331.000000  \n",
       "mean          2.040329e+16      8.113972e+17    2597.711283  \n",
       "std           1.260797e+17      6.295843e+16    4394.399594  \n",
       "min           1.185634e+07      6.721083e+17       1.000000  \n",
       "25%           3.589728e+08      7.761338e+17     527.500000  \n",
       "50%           4.196984e+09      8.281173e+17    1212.000000  \n",
       "75%           4.196984e+09      8.637581e+17    3010.500000  \n",
       "max           8.405479e+17      8.860534e+17   74577.000000  "
      ]
     },
     "execution_count": 36,
     "metadata": {},
     "output_type": "execute_result"
    }
   ],
   "source": [
    "#Check whether tweet_json table has outliers\n",
    "tweet_json.describe()"
   ]
  },
  {
   "cell_type": "code",
   "execution_count": 37,
   "metadata": {},
   "outputs": [
    {
     "data": {
      "text/html": [
       "<div>\n",
       "<style scoped>\n",
       "    .dataframe tbody tr th:only-of-type {\n",
       "        vertical-align: middle;\n",
       "    }\n",
       "\n",
       "    .dataframe tbody tr th {\n",
       "        vertical-align: top;\n",
       "    }\n",
       "\n",
       "    .dataframe thead th {\n",
       "        text-align: right;\n",
       "    }\n",
       "</style>\n",
       "<table border=\"1\" class=\"dataframe\">\n",
       "  <thead>\n",
       "    <tr style=\"text-align: right;\">\n",
       "      <th></th>\n",
       "      <th>tweet_id</th>\n",
       "      <th>in_reply_to_status_id</th>\n",
       "      <th>in_reply_to_user_id</th>\n",
       "      <th>timestamp</th>\n",
       "      <th>source</th>\n",
       "      <th>text</th>\n",
       "      <th>retweeted_status_id</th>\n",
       "      <th>retweeted_status_user_id</th>\n",
       "      <th>retweeted_status_timestamp</th>\n",
       "      <th>expanded_urls</th>\n",
       "      <th>rating_numerator</th>\n",
       "      <th>rating_denominator</th>\n",
       "      <th>name</th>\n",
       "      <th>doggo</th>\n",
       "      <th>floofer</th>\n",
       "      <th>pupper</th>\n",
       "      <th>puppo</th>\n",
       "    </tr>\n",
       "  </thead>\n",
       "  <tbody>\n",
       "    <tr>\n",
       "      <th>2003</th>\n",
       "      <td>672475084225949696</td>\n",
       "      <td>NaN</td>\n",
       "      <td>NaN</td>\n",
       "      <td>2015-12-03 17:58:48 +0000</td>\n",
       "      <td>&lt;a href=\"http://twitter.com/download/iphone\" r...</td>\n",
       "      <td>This is Buddy. He's photogenic af. Loves to se...</td>\n",
       "      <td>NaN</td>\n",
       "      <td>NaN</td>\n",
       "      <td>NaN</td>\n",
       "      <td>https://twitter.com/dog_rates/status/672475084...</td>\n",
       "      <td>8</td>\n",
       "      <td>10</td>\n",
       "      <td>Buddy</td>\n",
       "      <td>None</td>\n",
       "      <td>None</td>\n",
       "      <td>None</td>\n",
       "      <td>None</td>\n",
       "    </tr>\n",
       "    <tr>\n",
       "      <th>1572</th>\n",
       "      <td>687664829264453632</td>\n",
       "      <td>NaN</td>\n",
       "      <td>NaN</td>\n",
       "      <td>2016-01-14 15:57:26 +0000</td>\n",
       "      <td>&lt;a href=\"http://twitter.com/download/iphone\" r...</td>\n",
       "      <td>Meet Opal. He's a Belgian Dijon Poofster. Upse...</td>\n",
       "      <td>NaN</td>\n",
       "      <td>NaN</td>\n",
       "      <td>NaN</td>\n",
       "      <td>https://twitter.com/dog_rates/status/687664829...</td>\n",
       "      <td>11</td>\n",
       "      <td>10</td>\n",
       "      <td>Opal</td>\n",
       "      <td>None</td>\n",
       "      <td>None</td>\n",
       "      <td>None</td>\n",
       "      <td>None</td>\n",
       "    </tr>\n",
       "    <tr>\n",
       "      <th>1425</th>\n",
       "      <td>697943111201378304</td>\n",
       "      <td>NaN</td>\n",
       "      <td>NaN</td>\n",
       "      <td>2016-02-12 00:39:39 +0000</td>\n",
       "      <td>&lt;a href=\"http://twitter.com/download/iphone\" r...</td>\n",
       "      <td>This is Cassie. She goes door to door trying t...</td>\n",
       "      <td>NaN</td>\n",
       "      <td>NaN</td>\n",
       "      <td>NaN</td>\n",
       "      <td>https://twitter.com/dog_rates/status/697943111...</td>\n",
       "      <td>10</td>\n",
       "      <td>10</td>\n",
       "      <td>Cassie</td>\n",
       "      <td>None</td>\n",
       "      <td>None</td>\n",
       "      <td>None</td>\n",
       "      <td>None</td>\n",
       "    </tr>\n",
       "    <tr>\n",
       "      <th>1943</th>\n",
       "      <td>673709992831262724</td>\n",
       "      <td>NaN</td>\n",
       "      <td>NaN</td>\n",
       "      <td>2015-12-07 03:45:53 +0000</td>\n",
       "      <td>&lt;a href=\"http://twitter.com/download/iphone\" r...</td>\n",
       "      <td>I know a lot of you are studying for finals. G...</td>\n",
       "      <td>NaN</td>\n",
       "      <td>NaN</td>\n",
       "      <td>NaN</td>\n",
       "      <td>https://twitter.com/dog_rates/status/673709992...</td>\n",
       "      <td>12</td>\n",
       "      <td>10</td>\n",
       "      <td>None</td>\n",
       "      <td>None</td>\n",
       "      <td>None</td>\n",
       "      <td>None</td>\n",
       "      <td>None</td>\n",
       "    </tr>\n",
       "    <tr>\n",
       "      <th>1247</th>\n",
       "      <td>711652651650457602</td>\n",
       "      <td>NaN</td>\n",
       "      <td>NaN</td>\n",
       "      <td>2016-03-20 20:36:28 +0000</td>\n",
       "      <td>&lt;a href=\"http://twitter.com/download/iphone\" r...</td>\n",
       "      <td>This is Gary. He just wanted to say hi. 9/10 v...</td>\n",
       "      <td>NaN</td>\n",
       "      <td>NaN</td>\n",
       "      <td>NaN</td>\n",
       "      <td>https://twitter.com/dog_rates/status/711652651...</td>\n",
       "      <td>9</td>\n",
       "      <td>10</td>\n",
       "      <td>Gary</td>\n",
       "      <td>None</td>\n",
       "      <td>None</td>\n",
       "      <td>None</td>\n",
       "      <td>None</td>\n",
       "    </tr>\n",
       "  </tbody>\n",
       "</table>\n",
       "</div>"
      ],
      "text/plain": [
       "                tweet_id  in_reply_to_status_id  in_reply_to_user_id  \\\n",
       "2003  672475084225949696                    NaN                  NaN   \n",
       "1572  687664829264453632                    NaN                  NaN   \n",
       "1425  697943111201378304                    NaN                  NaN   \n",
       "1943  673709992831262724                    NaN                  NaN   \n",
       "1247  711652651650457602                    NaN                  NaN   \n",
       "\n",
       "                      timestamp  \\\n",
       "2003  2015-12-03 17:58:48 +0000   \n",
       "1572  2016-01-14 15:57:26 +0000   \n",
       "1425  2016-02-12 00:39:39 +0000   \n",
       "1943  2015-12-07 03:45:53 +0000   \n",
       "1247  2016-03-20 20:36:28 +0000   \n",
       "\n",
       "                                                 source  \\\n",
       "2003  <a href=\"http://twitter.com/download/iphone\" r...   \n",
       "1572  <a href=\"http://twitter.com/download/iphone\" r...   \n",
       "1425  <a href=\"http://twitter.com/download/iphone\" r...   \n",
       "1943  <a href=\"http://twitter.com/download/iphone\" r...   \n",
       "1247  <a href=\"http://twitter.com/download/iphone\" r...   \n",
       "\n",
       "                                                   text  retweeted_status_id  \\\n",
       "2003  This is Buddy. He's photogenic af. Loves to se...                  NaN   \n",
       "1572  Meet Opal. He's a Belgian Dijon Poofster. Upse...                  NaN   \n",
       "1425  This is Cassie. She goes door to door trying t...                  NaN   \n",
       "1943  I know a lot of you are studying for finals. G...                  NaN   \n",
       "1247  This is Gary. He just wanted to say hi. 9/10 v...                  NaN   \n",
       "\n",
       "      retweeted_status_user_id retweeted_status_timestamp  \\\n",
       "2003                       NaN                        NaN   \n",
       "1572                       NaN                        NaN   \n",
       "1425                       NaN                        NaN   \n",
       "1943                       NaN                        NaN   \n",
       "1247                       NaN                        NaN   \n",
       "\n",
       "                                          expanded_urls  rating_numerator  \\\n",
       "2003  https://twitter.com/dog_rates/status/672475084...                 8   \n",
       "1572  https://twitter.com/dog_rates/status/687664829...                11   \n",
       "1425  https://twitter.com/dog_rates/status/697943111...                10   \n",
       "1943  https://twitter.com/dog_rates/status/673709992...                12   \n",
       "1247  https://twitter.com/dog_rates/status/711652651...                 9   \n",
       "\n",
       "      rating_denominator    name doggo floofer pupper puppo  \n",
       "2003                  10   Buddy  None    None   None  None  \n",
       "1572                  10    Opal  None    None   None  None  \n",
       "1425                  10  Cassie  None    None   None  None  \n",
       "1943                  10    None  None    None   None  None  \n",
       "1247                  10    Gary  None    None   None  None  "
      ]
     },
     "execution_count": 37,
     "metadata": {},
     "output_type": "execute_result"
    }
   ],
   "source": [
    "#Check twitter table\n",
    "twitter.sample(5)"
   ]
  },
  {
   "cell_type": "code",
   "execution_count": 38,
   "metadata": {},
   "outputs": [
    {
     "name": "stdout",
     "output_type": "stream",
     "text": [
      "<class 'pandas.core.frame.DataFrame'>\n",
      "RangeIndex: 2356 entries, 0 to 2355\n",
      "Data columns (total 17 columns):\n",
      "tweet_id                      2356 non-null int64\n",
      "in_reply_to_status_id         78 non-null float64\n",
      "in_reply_to_user_id           78 non-null float64\n",
      "timestamp                     2356 non-null object\n",
      "source                        2356 non-null object\n",
      "text                          2356 non-null object\n",
      "retweeted_status_id           181 non-null float64\n",
      "retweeted_status_user_id      181 non-null float64\n",
      "retweeted_status_timestamp    181 non-null object\n",
      "expanded_urls                 2297 non-null object\n",
      "rating_numerator              2356 non-null int64\n",
      "rating_denominator            2356 non-null int64\n",
      "name                          2356 non-null object\n",
      "doggo                         2356 non-null object\n",
      "floofer                       2356 non-null object\n",
      "pupper                        2356 non-null object\n",
      "puppo                         2356 non-null object\n",
      "dtypes: float64(4), int64(3), object(10)\n",
      "memory usage: 313.0+ KB\n"
     ]
    }
   ],
   "source": [
    "#Check whether twitter table has incorrect datatypes and missing value\n",
    "twitter.info()"
   ]
  },
  {
   "cell_type": "code",
   "execution_count": 39,
   "metadata": {},
   "outputs": [
    {
     "data": {
      "text/plain": [
       "0"
      ]
     },
     "execution_count": 39,
     "metadata": {},
     "output_type": "execute_result"
    }
   ],
   "source": [
    "#Check whether twitter table has duplicated data\n",
    "sum(twitter.duplicated())"
   ]
  },
  {
   "cell_type": "code",
   "execution_count": 40,
   "metadata": {},
   "outputs": [
    {
     "data": {
      "text/html": [
       "<div>\n",
       "<style scoped>\n",
       "    .dataframe tbody tr th:only-of-type {\n",
       "        vertical-align: middle;\n",
       "    }\n",
       "\n",
       "    .dataframe tbody tr th {\n",
       "        vertical-align: top;\n",
       "    }\n",
       "\n",
       "    .dataframe thead th {\n",
       "        text-align: right;\n",
       "    }\n",
       "</style>\n",
       "<table border=\"1\" class=\"dataframe\">\n",
       "  <thead>\n",
       "    <tr style=\"text-align: right;\">\n",
       "      <th></th>\n",
       "      <th>tweet_id</th>\n",
       "      <th>in_reply_to_status_id</th>\n",
       "      <th>in_reply_to_user_id</th>\n",
       "      <th>retweeted_status_id</th>\n",
       "      <th>retweeted_status_user_id</th>\n",
       "      <th>rating_numerator</th>\n",
       "      <th>rating_denominator</th>\n",
       "    </tr>\n",
       "  </thead>\n",
       "  <tbody>\n",
       "    <tr>\n",
       "      <th>count</th>\n",
       "      <td>2.356000e+03</td>\n",
       "      <td>7.800000e+01</td>\n",
       "      <td>7.800000e+01</td>\n",
       "      <td>1.810000e+02</td>\n",
       "      <td>1.810000e+02</td>\n",
       "      <td>2356.000000</td>\n",
       "      <td>2356.000000</td>\n",
       "    </tr>\n",
       "    <tr>\n",
       "      <th>mean</th>\n",
       "      <td>7.427716e+17</td>\n",
       "      <td>7.455079e+17</td>\n",
       "      <td>2.014171e+16</td>\n",
       "      <td>7.720400e+17</td>\n",
       "      <td>1.241698e+16</td>\n",
       "      <td>13.126486</td>\n",
       "      <td>10.455433</td>\n",
       "    </tr>\n",
       "    <tr>\n",
       "      <th>std</th>\n",
       "      <td>6.856705e+16</td>\n",
       "      <td>7.582492e+16</td>\n",
       "      <td>1.252797e+17</td>\n",
       "      <td>6.236928e+16</td>\n",
       "      <td>9.599254e+16</td>\n",
       "      <td>45.876648</td>\n",
       "      <td>6.745237</td>\n",
       "    </tr>\n",
       "    <tr>\n",
       "      <th>min</th>\n",
       "      <td>6.660209e+17</td>\n",
       "      <td>6.658147e+17</td>\n",
       "      <td>1.185634e+07</td>\n",
       "      <td>6.661041e+17</td>\n",
       "      <td>7.832140e+05</td>\n",
       "      <td>0.000000</td>\n",
       "      <td>0.000000</td>\n",
       "    </tr>\n",
       "    <tr>\n",
       "      <th>25%</th>\n",
       "      <td>6.783989e+17</td>\n",
       "      <td>6.757419e+17</td>\n",
       "      <td>3.086374e+08</td>\n",
       "      <td>7.186315e+17</td>\n",
       "      <td>4.196984e+09</td>\n",
       "      <td>10.000000</td>\n",
       "      <td>10.000000</td>\n",
       "    </tr>\n",
       "    <tr>\n",
       "      <th>50%</th>\n",
       "      <td>7.196279e+17</td>\n",
       "      <td>7.038708e+17</td>\n",
       "      <td>4.196984e+09</td>\n",
       "      <td>7.804657e+17</td>\n",
       "      <td>4.196984e+09</td>\n",
       "      <td>11.000000</td>\n",
       "      <td>10.000000</td>\n",
       "    </tr>\n",
       "    <tr>\n",
       "      <th>75%</th>\n",
       "      <td>7.993373e+17</td>\n",
       "      <td>8.257804e+17</td>\n",
       "      <td>4.196984e+09</td>\n",
       "      <td>8.203146e+17</td>\n",
       "      <td>4.196984e+09</td>\n",
       "      <td>12.000000</td>\n",
       "      <td>10.000000</td>\n",
       "    </tr>\n",
       "    <tr>\n",
       "      <th>max</th>\n",
       "      <td>8.924206e+17</td>\n",
       "      <td>8.862664e+17</td>\n",
       "      <td>8.405479e+17</td>\n",
       "      <td>8.874740e+17</td>\n",
       "      <td>7.874618e+17</td>\n",
       "      <td>1776.000000</td>\n",
       "      <td>170.000000</td>\n",
       "    </tr>\n",
       "  </tbody>\n",
       "</table>\n",
       "</div>"
      ],
      "text/plain": [
       "           tweet_id  in_reply_to_status_id  in_reply_to_user_id  \\\n",
       "count  2.356000e+03           7.800000e+01         7.800000e+01   \n",
       "mean   7.427716e+17           7.455079e+17         2.014171e+16   \n",
       "std    6.856705e+16           7.582492e+16         1.252797e+17   \n",
       "min    6.660209e+17           6.658147e+17         1.185634e+07   \n",
       "25%    6.783989e+17           6.757419e+17         3.086374e+08   \n",
       "50%    7.196279e+17           7.038708e+17         4.196984e+09   \n",
       "75%    7.993373e+17           8.257804e+17         4.196984e+09   \n",
       "max    8.924206e+17           8.862664e+17         8.405479e+17   \n",
       "\n",
       "       retweeted_status_id  retweeted_status_user_id  rating_numerator  \\\n",
       "count         1.810000e+02              1.810000e+02       2356.000000   \n",
       "mean          7.720400e+17              1.241698e+16         13.126486   \n",
       "std           6.236928e+16              9.599254e+16         45.876648   \n",
       "min           6.661041e+17              7.832140e+05          0.000000   \n",
       "25%           7.186315e+17              4.196984e+09         10.000000   \n",
       "50%           7.804657e+17              4.196984e+09         11.000000   \n",
       "75%           8.203146e+17              4.196984e+09         12.000000   \n",
       "max           8.874740e+17              7.874618e+17       1776.000000   \n",
       "\n",
       "       rating_denominator  \n",
       "count         2356.000000  \n",
       "mean            10.455433  \n",
       "std              6.745237  \n",
       "min              0.000000  \n",
       "25%             10.000000  \n",
       "50%             10.000000  \n",
       "75%             10.000000  \n",
       "max            170.000000  "
      ]
     },
     "execution_count": 40,
     "metadata": {},
     "output_type": "execute_result"
    }
   ],
   "source": [
    "#Check whether twitter table has outliers\n",
    "twitter.describe()"
   ]
  },
  {
   "cell_type": "code",
   "execution_count": 41,
   "metadata": {},
   "outputs": [
    {
     "data": {
      "text/html": [
       "<div>\n",
       "<style scoped>\n",
       "    .dataframe tbody tr th:only-of-type {\n",
       "        vertical-align: middle;\n",
       "    }\n",
       "\n",
       "    .dataframe tbody tr th {\n",
       "        vertical-align: top;\n",
       "    }\n",
       "\n",
       "    .dataframe thead th {\n",
       "        text-align: right;\n",
       "    }\n",
       "</style>\n",
       "<table border=\"1\" class=\"dataframe\">\n",
       "  <thead>\n",
       "    <tr style=\"text-align: right;\">\n",
       "      <th></th>\n",
       "      <th>tweet_id</th>\n",
       "      <th>jpg_url</th>\n",
       "      <th>img_num</th>\n",
       "      <th>p1</th>\n",
       "      <th>p1_conf</th>\n",
       "      <th>p1_dog</th>\n",
       "      <th>p2</th>\n",
       "      <th>p2_conf</th>\n",
       "      <th>p2_dog</th>\n",
       "      <th>p3</th>\n",
       "      <th>p3_conf</th>\n",
       "      <th>p3_dog</th>\n",
       "    </tr>\n",
       "  </thead>\n",
       "  <tbody>\n",
       "    <tr>\n",
       "      <th>0</th>\n",
       "      <td>666020888022790149</td>\n",
       "      <td>https://pbs.twimg.com/media/CT4udn0WwAA0aMy.jpg</td>\n",
       "      <td>1</td>\n",
       "      <td>Welsh_springer_spaniel</td>\n",
       "      <td>0.465074</td>\n",
       "      <td>True</td>\n",
       "      <td>collie</td>\n",
       "      <td>0.156665</td>\n",
       "      <td>True</td>\n",
       "      <td>Shetland_sheepdog</td>\n",
       "      <td>0.061428</td>\n",
       "      <td>True</td>\n",
       "    </tr>\n",
       "    <tr>\n",
       "      <th>1</th>\n",
       "      <td>666029285002620928</td>\n",
       "      <td>https://pbs.twimg.com/media/CT42GRgUYAA5iDo.jpg</td>\n",
       "      <td>1</td>\n",
       "      <td>redbone</td>\n",
       "      <td>0.506826</td>\n",
       "      <td>True</td>\n",
       "      <td>miniature_pinscher</td>\n",
       "      <td>0.074192</td>\n",
       "      <td>True</td>\n",
       "      <td>Rhodesian_ridgeback</td>\n",
       "      <td>0.072010</td>\n",
       "      <td>True</td>\n",
       "    </tr>\n",
       "    <tr>\n",
       "      <th>2</th>\n",
       "      <td>666033412701032449</td>\n",
       "      <td>https://pbs.twimg.com/media/CT4521TWwAEvMyu.jpg</td>\n",
       "      <td>1</td>\n",
       "      <td>German_shepherd</td>\n",
       "      <td>0.596461</td>\n",
       "      <td>True</td>\n",
       "      <td>malinois</td>\n",
       "      <td>0.138584</td>\n",
       "      <td>True</td>\n",
       "      <td>bloodhound</td>\n",
       "      <td>0.116197</td>\n",
       "      <td>True</td>\n",
       "    </tr>\n",
       "    <tr>\n",
       "      <th>3</th>\n",
       "      <td>666044226329800704</td>\n",
       "      <td>https://pbs.twimg.com/media/CT5Dr8HUEAA-lEu.jpg</td>\n",
       "      <td>1</td>\n",
       "      <td>Rhodesian_ridgeback</td>\n",
       "      <td>0.408143</td>\n",
       "      <td>True</td>\n",
       "      <td>redbone</td>\n",
       "      <td>0.360687</td>\n",
       "      <td>True</td>\n",
       "      <td>miniature_pinscher</td>\n",
       "      <td>0.222752</td>\n",
       "      <td>True</td>\n",
       "    </tr>\n",
       "    <tr>\n",
       "      <th>4</th>\n",
       "      <td>666049248165822465</td>\n",
       "      <td>https://pbs.twimg.com/media/CT5IQmsXIAAKY4A.jpg</td>\n",
       "      <td>1</td>\n",
       "      <td>miniature_pinscher</td>\n",
       "      <td>0.560311</td>\n",
       "      <td>True</td>\n",
       "      <td>Rottweiler</td>\n",
       "      <td>0.243682</td>\n",
       "      <td>True</td>\n",
       "      <td>Doberman</td>\n",
       "      <td>0.154629</td>\n",
       "      <td>True</td>\n",
       "    </tr>\n",
       "  </tbody>\n",
       "</table>\n",
       "</div>"
      ],
      "text/plain": [
       "             tweet_id                                          jpg_url  \\\n",
       "0  666020888022790149  https://pbs.twimg.com/media/CT4udn0WwAA0aMy.jpg   \n",
       "1  666029285002620928  https://pbs.twimg.com/media/CT42GRgUYAA5iDo.jpg   \n",
       "2  666033412701032449  https://pbs.twimg.com/media/CT4521TWwAEvMyu.jpg   \n",
       "3  666044226329800704  https://pbs.twimg.com/media/CT5Dr8HUEAA-lEu.jpg   \n",
       "4  666049248165822465  https://pbs.twimg.com/media/CT5IQmsXIAAKY4A.jpg   \n",
       "\n",
       "   img_num                      p1   p1_conf  p1_dog                  p2  \\\n",
       "0        1  Welsh_springer_spaniel  0.465074    True              collie   \n",
       "1        1                 redbone  0.506826    True  miniature_pinscher   \n",
       "2        1         German_shepherd  0.596461    True            malinois   \n",
       "3        1     Rhodesian_ridgeback  0.408143    True             redbone   \n",
       "4        1      miniature_pinscher  0.560311    True          Rottweiler   \n",
       "\n",
       "    p2_conf  p2_dog                   p3   p3_conf  p3_dog  \n",
       "0  0.156665    True    Shetland_sheepdog  0.061428    True  \n",
       "1  0.074192    True  Rhodesian_ridgeback  0.072010    True  \n",
       "2  0.138584    True           bloodhound  0.116197    True  \n",
       "3  0.360687    True   miniature_pinscher  0.222752    True  \n",
       "4  0.243682    True             Doberman  0.154629    True  "
      ]
     },
     "execution_count": 41,
     "metadata": {},
     "output_type": "execute_result"
    }
   ],
   "source": [
    "#Check image table\n",
    "image.head()"
   ]
  },
  {
   "cell_type": "code",
   "execution_count": 42,
   "metadata": {},
   "outputs": [
    {
     "name": "stdout",
     "output_type": "stream",
     "text": [
      "<class 'pandas.core.frame.DataFrame'>\n",
      "RangeIndex: 2075 entries, 0 to 2074\n",
      "Data columns (total 12 columns):\n",
      "tweet_id    2075 non-null int64\n",
      "jpg_url     2075 non-null object\n",
      "img_num     2075 non-null int64\n",
      "p1          2075 non-null object\n",
      "p1_conf     2075 non-null float64\n",
      "p1_dog      2075 non-null bool\n",
      "p2          2075 non-null object\n",
      "p2_conf     2075 non-null float64\n",
      "p2_dog      2075 non-null bool\n",
      "p3          2075 non-null object\n",
      "p3_conf     2075 non-null float64\n",
      "p3_dog      2075 non-null bool\n",
      "dtypes: bool(3), float64(3), int64(2), object(4)\n",
      "memory usage: 152.1+ KB\n"
     ]
    }
   ],
   "source": [
    "#Check whether image table has incorrect data type and missing values\n",
    "image.info()"
   ]
  },
  {
   "cell_type": "code",
   "execution_count": 43,
   "metadata": {},
   "outputs": [
    {
     "data": {
      "text/plain": [
       "0"
      ]
     },
     "execution_count": 43,
     "metadata": {},
     "output_type": "execute_result"
    }
   ],
   "source": [
    "#Check whether image table has duplicated data\n",
    "sum(image.duplicated())"
   ]
  },
  {
   "cell_type": "code",
   "execution_count": 44,
   "metadata": {},
   "outputs": [
    {
     "data": {
      "text/plain": [
       "17                 tweet_id\n",
       "42    in_reply_to_status_id\n",
       "44      in_reply_to_user_id\n",
       "58                   source\n",
       "dtype: object"
      ]
     },
     "execution_count": 44,
     "metadata": {},
     "output_type": "execute_result"
    }
   ],
   "source": [
    "#Check whether the three tables have duplicated columns\n",
    "all_columns= pd.Series(list(twitter) + list(image) + list(tweet_json))\n",
    "all_columns[all_columns.duplicated()]"
   ]
  },
  {
   "cell_type": "markdown",
   "metadata": {},
   "source": [
    "#### Tidiness  \n",
    "Three data sets should be combined in one  \n",
    "Dog stage column in `twitter` should be one, instead of spread into 4 column with variable names  \n",
    "#### Quality  \n",
    "##### `tweet_json` table  \n",
    "- Wrong data type(Created_at)  \n",
    "- Column with missing values  \n",
    "- favourite_count has some outliers(max is 150944 while 75% of the counts are lower than 8960)  \n",
    "- retweet_count has some outliers(max is 74577 while 75% is lower than 3010)  \n",
    "\n",
    "##### `twitter` table\n",
    "- Wrong data type(Created_at)  \n",
    "- Column with missing values(in_reply_to_status_id, in_reply_to_user_id, retweeted_status_id, retweeted_status_user_id, retweeted_status_timestamp, expanded_urls)  \n",
    "- rating_numerator has outliers(this number should be 10)  \n",
    "- rating_denominator has outliers(max is 1776 while 75% is lower than 12)  \n",
    "\n",
    "##### `image` table  \n",
    "- Column p1,p2 and p3 have different format of elements(some dog breeds are capitalized while others are not)  "
   ]
  },
  {
   "cell_type": "markdown",
   "metadata": {},
   "source": [
    "## Clean"
   ]
  },
  {
   "cell_type": "code",
   "execution_count": 45,
   "metadata": {},
   "outputs": [],
   "source": [
    "#Copy the tweet_json table\n",
    "tweet_clean= tweet_json.copy()"
   ]
  },
  {
   "cell_type": "code",
   "execution_count": 46,
   "metadata": {},
   "outputs": [],
   "source": [
    "#Copy twitter table\n",
    "twitter_clean= twitter.copy()"
   ]
  },
  {
   "cell_type": "markdown",
   "metadata": {},
   "source": [
    "#### `tweet_json`: Missing values"
   ]
  },
  {
   "cell_type": "markdown",
   "metadata": {},
   "source": [
    "##### Define  \n",
    "Keep useful columns in tweet_json and drop others"
   ]
  },
  {
   "cell_type": "markdown",
   "metadata": {},
   "source": [
    "##### Code  "
   ]
  },
  {
   "cell_type": "code",
   "execution_count": 47,
   "metadata": {},
   "outputs": [],
   "source": [
    "#Drop all the rows that are unrelated with the analysis later\n",
    "tweet_clean= tweet_clean[['favorite_count','retweet_count','id']]"
   ]
  },
  {
   "cell_type": "markdown",
   "metadata": {},
   "source": [
    "##### Test  "
   ]
  },
  {
   "cell_type": "code",
   "execution_count": 48,
   "metadata": {},
   "outputs": [
    {
     "data": {
      "text/html": [
       "<div>\n",
       "<style scoped>\n",
       "    .dataframe tbody tr th:only-of-type {\n",
       "        vertical-align: middle;\n",
       "    }\n",
       "\n",
       "    .dataframe tbody tr th {\n",
       "        vertical-align: top;\n",
       "    }\n",
       "\n",
       "    .dataframe thead th {\n",
       "        text-align: right;\n",
       "    }\n",
       "</style>\n",
       "<table border=\"1\" class=\"dataframe\">\n",
       "  <thead>\n",
       "    <tr style=\"text-align: right;\">\n",
       "      <th></th>\n",
       "      <th>favorite_count</th>\n",
       "      <th>retweet_count</th>\n",
       "      <th>id</th>\n",
       "    </tr>\n",
       "  </thead>\n",
       "  <tbody>\n",
       "    <tr>\n",
       "      <th>395</th>\n",
       "      <td>0</td>\n",
       "      <td>9634</td>\n",
       "      <td>823269594223824897</td>\n",
       "    </tr>\n",
       "  </tbody>\n",
       "</table>\n",
       "</div>"
      ],
      "text/plain": [
       "     favorite_count  retweet_count                  id\n",
       "395               0           9634  823269594223824897"
      ]
     },
     "execution_count": 48,
     "metadata": {},
     "output_type": "execute_result"
    }
   ],
   "source": [
    "#Check whether tweet_clean contains only the desired column\n",
    "tweet_clean.sample()"
   ]
  },
  {
   "cell_type": "markdown",
   "metadata": {},
   "source": [
    "#### `twitter`: Missing values & dog stage column should be one"
   ]
  },
  {
   "cell_type": "markdown",
   "metadata": {},
   "source": [
    "##### Define  \n",
    "Keep useful columns in tweet_json and drop others"
   ]
  },
  {
   "cell_type": "markdown",
   "metadata": {},
   "source": [
    "##### Code  "
   ]
  },
  {
   "cell_type": "code",
   "execution_count": 51,
   "metadata": {},
   "outputs": [],
   "source": [
    "#Drop columns that are unrelated with the analysis later\n",
    "twitter_clean= twitter[['tweet_id','timestamp','text','rating_numerator','rating_denominator', 'name']]"
   ]
  },
  {
   "cell_type": "markdown",
   "metadata": {},
   "source": [
    "##### Test  "
   ]
  },
  {
   "cell_type": "code",
   "execution_count": 52,
   "metadata": {},
   "outputs": [
    {
     "data": {
      "text/html": [
       "<div>\n",
       "<style scoped>\n",
       "    .dataframe tbody tr th:only-of-type {\n",
       "        vertical-align: middle;\n",
       "    }\n",
       "\n",
       "    .dataframe tbody tr th {\n",
       "        vertical-align: top;\n",
       "    }\n",
       "\n",
       "    .dataframe thead th {\n",
       "        text-align: right;\n",
       "    }\n",
       "</style>\n",
       "<table border=\"1\" class=\"dataframe\">\n",
       "  <thead>\n",
       "    <tr style=\"text-align: right;\">\n",
       "      <th></th>\n",
       "      <th>tweet_id</th>\n",
       "      <th>timestamp</th>\n",
       "      <th>text</th>\n",
       "      <th>rating_numerator</th>\n",
       "      <th>rating_denominator</th>\n",
       "      <th>name</th>\n",
       "    </tr>\n",
       "  </thead>\n",
       "  <tbody>\n",
       "    <tr>\n",
       "      <th>149</th>\n",
       "      <td>863079547188785154</td>\n",
       "      <td>2017-05-12 17:12:53 +0000</td>\n",
       "      <td>Ladies and gentlemen... I found Pipsy. He may ...</td>\n",
       "      <td>14</td>\n",
       "      <td>10</td>\n",
       "      <td>None</td>\n",
       "    </tr>\n",
       "  </tbody>\n",
       "</table>\n",
       "</div>"
      ],
      "text/plain": [
       "               tweet_id                  timestamp  \\\n",
       "149  863079547188785154  2017-05-12 17:12:53 +0000   \n",
       "\n",
       "                                                  text  rating_numerator  \\\n",
       "149  Ladies and gentlemen... I found Pipsy. He may ...                14   \n",
       "\n",
       "     rating_denominator  name  \n",
       "149                  10  None  "
      ]
     },
     "execution_count": 52,
     "metadata": {},
     "output_type": "execute_result"
    }
   ],
   "source": [
    "#Check whether the table only contains desired columns\n",
    "twitter_clean.sample()"
   ]
  },
  {
   "cell_type": "markdown",
   "metadata": {},
   "source": [
    "#### Merge three tables  "
   ]
  },
  {
   "cell_type": "markdown",
   "metadata": {},
   "source": [
    "##### Define  \n",
    "Rename id column from tweet_clean and merge tweet_clean and twitter_clean"
   ]
  },
  {
   "cell_type": "markdown",
   "metadata": {},
   "source": [
    "##### Code  "
   ]
  },
  {
   "cell_type": "code",
   "execution_count": 53,
   "metadata": {},
   "outputs": [
    {
     "data": {
      "text/html": [
       "<div>\n",
       "<style scoped>\n",
       "    .dataframe tbody tr th:only-of-type {\n",
       "        vertical-align: middle;\n",
       "    }\n",
       "\n",
       "    .dataframe tbody tr th {\n",
       "        vertical-align: top;\n",
       "    }\n",
       "\n",
       "    .dataframe thead th {\n",
       "        text-align: right;\n",
       "    }\n",
       "</style>\n",
       "<table border=\"1\" class=\"dataframe\">\n",
       "  <thead>\n",
       "    <tr style=\"text-align: right;\">\n",
       "      <th></th>\n",
       "      <th>favorite_count</th>\n",
       "      <th>retweet_count</th>\n",
       "      <th>tweet_id</th>\n",
       "    </tr>\n",
       "  </thead>\n",
       "  <tbody>\n",
       "    <tr>\n",
       "      <th>0</th>\n",
       "      <td>35098</td>\n",
       "      <td>7390</td>\n",
       "      <td>892420643555336193</td>\n",
       "    </tr>\n",
       "    <tr>\n",
       "      <th>1</th>\n",
       "      <td>30382</td>\n",
       "      <td>5505</td>\n",
       "      <td>892177421306343426</td>\n",
       "    </tr>\n",
       "    <tr>\n",
       "      <th>2</th>\n",
       "      <td>22846</td>\n",
       "      <td>3637</td>\n",
       "      <td>891815181378084864</td>\n",
       "    </tr>\n",
       "    <tr>\n",
       "      <th>3</th>\n",
       "      <td>38371</td>\n",
       "      <td>7567</td>\n",
       "      <td>891689557279858688</td>\n",
       "    </tr>\n",
       "    <tr>\n",
       "      <th>4</th>\n",
       "      <td>36644</td>\n",
       "      <td>8151</td>\n",
       "      <td>891327558926688256</td>\n",
       "    </tr>\n",
       "  </tbody>\n",
       "</table>\n",
       "</div>"
      ],
      "text/plain": [
       "   favorite_count  retweet_count            tweet_id\n",
       "0           35098           7390  892420643555336193\n",
       "1           30382           5505  892177421306343426\n",
       "2           22846           3637  891815181378084864\n",
       "3           38371           7567  891689557279858688\n",
       "4           36644           8151  891327558926688256"
      ]
     },
     "execution_count": 53,
     "metadata": {},
     "output_type": "execute_result"
    }
   ],
   "source": [
    "#Rename id column from twitter_clean table to tweet_id\n",
    "tweet_clean.rename(columns= {\"id\": \"tweet_id\"}, inplace= True)\n",
    "tweet_clean.head()"
   ]
  },
  {
   "cell_type": "code",
   "execution_count": 54,
   "metadata": {},
   "outputs": [],
   "source": [
    "#Merge tweet_clean and twitter_clean together\n",
    "twitter_archive_master= tweet_clean.merge(twitter_clean, on= 'tweet_id', how= 'outer')"
   ]
  },
  {
   "cell_type": "code",
   "execution_count": 55,
   "metadata": {},
   "outputs": [],
   "source": [
    "#Merge this new table with image table\n",
    "twitter_archive_master= twitter_archive_master.merge(image, on= 'tweet_id',how= 'outer')"
   ]
  },
  {
   "cell_type": "markdown",
   "metadata": {},
   "source": [
    "##### Test  "
   ]
  },
  {
   "cell_type": "code",
   "execution_count": 56,
   "metadata": {},
   "outputs": [
    {
     "data": {
      "text/html": [
       "<div>\n",
       "<style scoped>\n",
       "    .dataframe tbody tr th:only-of-type {\n",
       "        vertical-align: middle;\n",
       "    }\n",
       "\n",
       "    .dataframe tbody tr th {\n",
       "        vertical-align: top;\n",
       "    }\n",
       "\n",
       "    .dataframe thead th {\n",
       "        text-align: right;\n",
       "    }\n",
       "</style>\n",
       "<table border=\"1\" class=\"dataframe\">\n",
       "  <thead>\n",
       "    <tr style=\"text-align: right;\">\n",
       "      <th></th>\n",
       "      <th>favorite_count</th>\n",
       "      <th>retweet_count</th>\n",
       "      <th>tweet_id</th>\n",
       "      <th>timestamp</th>\n",
       "      <th>text</th>\n",
       "      <th>rating_numerator</th>\n",
       "      <th>rating_denominator</th>\n",
       "      <th>name</th>\n",
       "      <th>jpg_url</th>\n",
       "      <th>img_num</th>\n",
       "      <th>p1</th>\n",
       "      <th>p1_conf</th>\n",
       "      <th>p1_dog</th>\n",
       "      <th>p2</th>\n",
       "      <th>p2_conf</th>\n",
       "      <th>p2_dog</th>\n",
       "      <th>p3</th>\n",
       "      <th>p3_conf</th>\n",
       "      <th>p3_dog</th>\n",
       "    </tr>\n",
       "  </thead>\n",
       "  <tbody>\n",
       "    <tr>\n",
       "      <th>1234</th>\n",
       "      <td>2078.0</td>\n",
       "      <td>499.0</td>\n",
       "      <td>710283270106132480</td>\n",
       "      <td>2016-03-17 01:55:02 +0000</td>\n",
       "      <td>This is Gunner. He's a Figamus Newton. King of...</td>\n",
       "      <td>11</td>\n",
       "      <td>10</td>\n",
       "      <td>Gunner</td>\n",
       "      <td>https://pbs.twimg.com/media/Cdtu3WRUkAAsRVx.jpg</td>\n",
       "      <td>2.0</td>\n",
       "      <td>Shih-Tzu</td>\n",
       "      <td>0.932401</td>\n",
       "      <td>True</td>\n",
       "      <td>Lhasa</td>\n",
       "      <td>0.030806</td>\n",
       "      <td>True</td>\n",
       "      <td>Tibetan_terrier</td>\n",
       "      <td>0.008974</td>\n",
       "      <td>True</td>\n",
       "    </tr>\n",
       "    <tr>\n",
       "      <th>2296</th>\n",
       "      <td>147.0</td>\n",
       "      <td>45.0</td>\n",
       "      <td>666435652385423360</td>\n",
       "      <td>2015-11-17 02:00:15 +0000</td>\n",
       "      <td>\"Can you behave? You're ruining my wedding day...</td>\n",
       "      <td>10</td>\n",
       "      <td>10</td>\n",
       "      <td>None</td>\n",
       "      <td>https://pbs.twimg.com/media/CT-nsTQWEAEkyDn.jpg</td>\n",
       "      <td>1.0</td>\n",
       "      <td>Chesapeake_Bay_retriever</td>\n",
       "      <td>0.184130</td>\n",
       "      <td>True</td>\n",
       "      <td>chain_saw</td>\n",
       "      <td>0.056775</td>\n",
       "      <td>False</td>\n",
       "      <td>power_drill</td>\n",
       "      <td>0.036763</td>\n",
       "      <td>False</td>\n",
       "    </tr>\n",
       "    <tr>\n",
       "      <th>743</th>\n",
       "      <td>8339.0</td>\n",
       "      <td>2576.0</td>\n",
       "      <td>778039087836069888</td>\n",
       "      <td>2016-09-20 01:12:28 +0000</td>\n",
       "      <td>Evolution of a pupper yawn featuring Max. 12/1...</td>\n",
       "      <td>12</td>\n",
       "      <td>10</td>\n",
       "      <td>None</td>\n",
       "      <td>https://pbs.twimg.com/media/CswmaHmWAAAbdY9.jpg</td>\n",
       "      <td>2.0</td>\n",
       "      <td>German_shepherd</td>\n",
       "      <td>0.717776</td>\n",
       "      <td>True</td>\n",
       "      <td>malinois</td>\n",
       "      <td>0.111175</td>\n",
       "      <td>True</td>\n",
       "      <td>Norwegian_elkhound</td>\n",
       "      <td>0.058802</td>\n",
       "      <td>True</td>\n",
       "    </tr>\n",
       "    <tr>\n",
       "      <th>894</th>\n",
       "      <td>6456.0</td>\n",
       "      <td>1937.0</td>\n",
       "      <td>756939218950160384</td>\n",
       "      <td>2016-07-23 19:49:07 +0000</td>\n",
       "      <td>This is Jax. He is a majestic mountain pupper....</td>\n",
       "      <td>12</td>\n",
       "      <td>10</td>\n",
       "      <td>Jax</td>\n",
       "      <td>https://pbs.twimg.com/media/CoEwMXeWEAAaIz5.jpg</td>\n",
       "      <td>1.0</td>\n",
       "      <td>golden_retriever</td>\n",
       "      <td>0.790371</td>\n",
       "      <td>True</td>\n",
       "      <td>cocker_spaniel</td>\n",
       "      <td>0.130268</td>\n",
       "      <td>True</td>\n",
       "      <td>Labrador_retriever</td>\n",
       "      <td>0.064629</td>\n",
       "      <td>True</td>\n",
       "    </tr>\n",
       "    <tr>\n",
       "      <th>2245</th>\n",
       "      <td>504.0</td>\n",
       "      <td>201.0</td>\n",
       "      <td>667502640335572993</td>\n",
       "      <td>2015-11-20 00:40:05 +0000</td>\n",
       "      <td>Say hello to Hall and Oates. Oates is winking ...</td>\n",
       "      <td>11</td>\n",
       "      <td>10</td>\n",
       "      <td>Hall</td>\n",
       "      <td>https://pbs.twimg.com/media/CUNyHTMUYAAQVch.jpg</td>\n",
       "      <td>1.0</td>\n",
       "      <td>Labrador_retriever</td>\n",
       "      <td>0.996709</td>\n",
       "      <td>True</td>\n",
       "      <td>golden_retriever</td>\n",
       "      <td>0.001688</td>\n",
       "      <td>True</td>\n",
       "      <td>beagle</td>\n",
       "      <td>0.000712</td>\n",
       "      <td>True</td>\n",
       "    </tr>\n",
       "  </tbody>\n",
       "</table>\n",
       "</div>"
      ],
      "text/plain": [
       "      favorite_count  retweet_count            tweet_id  \\\n",
       "1234          2078.0          499.0  710283270106132480   \n",
       "2296           147.0           45.0  666435652385423360   \n",
       "743           8339.0         2576.0  778039087836069888   \n",
       "894           6456.0         1937.0  756939218950160384   \n",
       "2245           504.0          201.0  667502640335572993   \n",
       "\n",
       "                      timestamp  \\\n",
       "1234  2016-03-17 01:55:02 +0000   \n",
       "2296  2015-11-17 02:00:15 +0000   \n",
       "743   2016-09-20 01:12:28 +0000   \n",
       "894   2016-07-23 19:49:07 +0000   \n",
       "2245  2015-11-20 00:40:05 +0000   \n",
       "\n",
       "                                                   text  rating_numerator  \\\n",
       "1234  This is Gunner. He's a Figamus Newton. King of...                11   \n",
       "2296  \"Can you behave? You're ruining my wedding day...                10   \n",
       "743   Evolution of a pupper yawn featuring Max. 12/1...                12   \n",
       "894   This is Jax. He is a majestic mountain pupper....                12   \n",
       "2245  Say hello to Hall and Oates. Oates is winking ...                11   \n",
       "\n",
       "      rating_denominator    name  \\\n",
       "1234                  10  Gunner   \n",
       "2296                  10    None   \n",
       "743                   10    None   \n",
       "894                   10     Jax   \n",
       "2245                  10    Hall   \n",
       "\n",
       "                                              jpg_url  img_num  \\\n",
       "1234  https://pbs.twimg.com/media/Cdtu3WRUkAAsRVx.jpg      2.0   \n",
       "2296  https://pbs.twimg.com/media/CT-nsTQWEAEkyDn.jpg      1.0   \n",
       "743   https://pbs.twimg.com/media/CswmaHmWAAAbdY9.jpg      2.0   \n",
       "894   https://pbs.twimg.com/media/CoEwMXeWEAAaIz5.jpg      1.0   \n",
       "2245  https://pbs.twimg.com/media/CUNyHTMUYAAQVch.jpg      1.0   \n",
       "\n",
       "                            p1   p1_conf p1_dog                p2   p2_conf  \\\n",
       "1234                  Shih-Tzu  0.932401   True             Lhasa  0.030806   \n",
       "2296  Chesapeake_Bay_retriever  0.184130   True         chain_saw  0.056775   \n",
       "743            German_shepherd  0.717776   True          malinois  0.111175   \n",
       "894           golden_retriever  0.790371   True    cocker_spaniel  0.130268   \n",
       "2245        Labrador_retriever  0.996709   True  golden_retriever  0.001688   \n",
       "\n",
       "     p2_dog                  p3   p3_conf p3_dog  \n",
       "1234   True     Tibetan_terrier  0.008974   True  \n",
       "2296  False         power_drill  0.036763  False  \n",
       "743    True  Norwegian_elkhound  0.058802   True  \n",
       "894    True  Labrador_retriever  0.064629   True  \n",
       "2245   True              beagle  0.000712   True  "
      ]
     },
     "execution_count": 56,
     "metadata": {},
     "output_type": "execute_result"
    }
   ],
   "source": [
    "#Check the new data frame\n",
    "twitter_archive_master.sample(5)"
   ]
  },
  {
   "cell_type": "code",
   "execution_count": 57,
   "metadata": {},
   "outputs": [
    {
     "name": "stdout",
     "output_type": "stream",
     "text": [
      "<class 'pandas.core.frame.DataFrame'>\n",
      "Int64Index: 2356 entries, 0 to 2355\n",
      "Data columns (total 19 columns):\n",
      "favorite_count        2331 non-null float64\n",
      "retweet_count         2331 non-null float64\n",
      "tweet_id              2356 non-null int64\n",
      "timestamp             2356 non-null object\n",
      "text                  2356 non-null object\n",
      "rating_numerator      2356 non-null int64\n",
      "rating_denominator    2356 non-null int64\n",
      "name                  2356 non-null object\n",
      "jpg_url               2075 non-null object\n",
      "img_num               2075 non-null float64\n",
      "p1                    2075 non-null object\n",
      "p1_conf               2075 non-null float64\n",
      "p1_dog                2075 non-null object\n",
      "p2                    2075 non-null object\n",
      "p2_conf               2075 non-null float64\n",
      "p2_dog                2075 non-null object\n",
      "p3                    2075 non-null object\n",
      "p3_conf               2075 non-null float64\n",
      "p3_dog                2075 non-null object\n",
      "dtypes: float64(6), int64(3), object(10)\n",
      "memory usage: 368.1+ KB\n"
     ]
    }
   ],
   "source": [
    "#Check of the info of this table\n",
    "twitter_archive_master.info()"
   ]
  },
  {
   "cell_type": "markdown",
   "metadata": {},
   "source": [
    "#### Missing values  "
   ]
  },
  {
   "cell_type": "markdown",
   "metadata": {},
   "source": [
    "##### Define  \n",
    "Use .dropna() to drop all the rows contains NaNs"
   ]
  },
  {
   "cell_type": "markdown",
   "metadata": {},
   "source": [
    "##### Code  "
   ]
  },
  {
   "cell_type": "code",
   "execution_count": 58,
   "metadata": {},
   "outputs": [],
   "source": [
    "#Drop rows with NaNs\n",
    "twitter_archive_master.dropna(inplace= True)"
   ]
  },
  {
   "cell_type": "markdown",
   "metadata": {},
   "source": [
    "##### Test  "
   ]
  },
  {
   "cell_type": "code",
   "execution_count": 59,
   "metadata": {},
   "outputs": [
    {
     "name": "stdout",
     "output_type": "stream",
     "text": [
      "<class 'pandas.core.frame.DataFrame'>\n",
      "Int64Index: 2059 entries, 0 to 2330\n",
      "Data columns (total 19 columns):\n",
      "favorite_count        2059 non-null float64\n",
      "retweet_count         2059 non-null float64\n",
      "tweet_id              2059 non-null int64\n",
      "timestamp             2059 non-null object\n",
      "text                  2059 non-null object\n",
      "rating_numerator      2059 non-null int64\n",
      "rating_denominator    2059 non-null int64\n",
      "name                  2059 non-null object\n",
      "jpg_url               2059 non-null object\n",
      "img_num               2059 non-null float64\n",
      "p1                    2059 non-null object\n",
      "p1_conf               2059 non-null float64\n",
      "p1_dog                2059 non-null object\n",
      "p2                    2059 non-null object\n",
      "p2_conf               2059 non-null float64\n",
      "p2_dog                2059 non-null object\n",
      "p3                    2059 non-null object\n",
      "p3_conf               2059 non-null float64\n",
      "p3_dog                2059 non-null object\n",
      "dtypes: float64(6), int64(3), object(10)\n",
      "memory usage: 321.7+ KB\n"
     ]
    }
   ],
   "source": [
    "#Check the info of this table to see whether it contains NaNs\n",
    "twitter_archive_master.info()"
   ]
  },
  {
   "cell_type": "markdown",
   "metadata": {},
   "source": [
    "#### Wrong data types"
   ]
  },
  {
   "cell_type": "markdown",
   "metadata": {},
   "source": [
    "##### Define  \n",
    "Use .astype() to change favorite_count and retweet_count to int  \n",
    "Use .to_datetime to change timestamp to datetime  \n",
    "Use .astype to change p1_dog, p2_dog and p3_dog to Boolean  \n",
    "Use str.lower() to change all the elements in p1, p2 and p3 to uncapitalized words  "
   ]
  },
  {
   "cell_type": "markdown",
   "metadata": {},
   "source": [
    "##### Code"
   ]
  },
  {
   "cell_type": "code",
   "execution_count": 60,
   "metadata": {},
   "outputs": [],
   "source": [
    "twitter_archive_master[['favorite_count','retweet_count']]= twitter_archive_master[['favorite_count','retweet_count']].astype(int)"
   ]
  },
  {
   "cell_type": "code",
   "execution_count": 61,
   "metadata": {},
   "outputs": [],
   "source": [
    "twitter_archive_master['timestamp']= pd.to_datetime(twitter_archive_master['timestamp'])"
   ]
  },
  {
   "cell_type": "code",
   "execution_count": 62,
   "metadata": {},
   "outputs": [],
   "source": [
    "twitter_archive_master[['p1_dog','p2_dog','p3_dog']]= twitter_archive_master[['p1_dog','p2_dog','p3_dog']].astype(bool)"
   ]
  },
  {
   "cell_type": "code",
   "execution_count": 63,
   "metadata": {},
   "outputs": [],
   "source": [
    "twitter_archive_master['p1']= twitter_archive_master['p1'].str.lower()\n",
    "twitter_archive_master['p2']= twitter_archive_master['p2'].str.lower()\n",
    "twitter_archive_master['p3']= twitter_archive_master['p3'].str.lower()"
   ]
  },
  {
   "cell_type": "markdown",
   "metadata": {},
   "source": [
    "##### Test"
   ]
  },
  {
   "cell_type": "code",
   "execution_count": 64,
   "metadata": {},
   "outputs": [
    {
     "data": {
      "text/html": [
       "<div>\n",
       "<style scoped>\n",
       "    .dataframe tbody tr th:only-of-type {\n",
       "        vertical-align: middle;\n",
       "    }\n",
       "\n",
       "    .dataframe tbody tr th {\n",
       "        vertical-align: top;\n",
       "    }\n",
       "\n",
       "    .dataframe thead th {\n",
       "        text-align: right;\n",
       "    }\n",
       "</style>\n",
       "<table border=\"1\" class=\"dataframe\">\n",
       "  <thead>\n",
       "    <tr style=\"text-align: right;\">\n",
       "      <th></th>\n",
       "      <th>p1</th>\n",
       "      <th>p2</th>\n",
       "      <th>p3</th>\n",
       "    </tr>\n",
       "  </thead>\n",
       "  <tbody>\n",
       "    <tr>\n",
       "      <th>733</th>\n",
       "      <td>cocker_spaniel</td>\n",
       "      <td>labrador_retriever</td>\n",
       "      <td>chihuahua</td>\n",
       "    </tr>\n",
       "    <tr>\n",
       "      <th>2215</th>\n",
       "      <td>labrador_retriever</td>\n",
       "      <td>hog</td>\n",
       "      <td>newfoundland</td>\n",
       "    </tr>\n",
       "    <tr>\n",
       "      <th>294</th>\n",
       "      <td>staffordshire_bullterrier</td>\n",
       "      <td>muzzle</td>\n",
       "      <td>american_staffordshire_terrier</td>\n",
       "    </tr>\n",
       "    <tr>\n",
       "      <th>1490</th>\n",
       "      <td>barrow</td>\n",
       "      <td>tub</td>\n",
       "      <td>bathtub</td>\n",
       "    </tr>\n",
       "    <tr>\n",
       "      <th>1306</th>\n",
       "      <td>web_site</td>\n",
       "      <td>labrador_retriever</td>\n",
       "      <td>golden_retriever</td>\n",
       "    </tr>\n",
       "  </tbody>\n",
       "</table>\n",
       "</div>"
      ],
      "text/plain": [
       "                             p1                  p2  \\\n",
       "733              cocker_spaniel  labrador_retriever   \n",
       "2215         labrador_retriever                 hog   \n",
       "294   staffordshire_bullterrier              muzzle   \n",
       "1490                     barrow                 tub   \n",
       "1306                   web_site  labrador_retriever   \n",
       "\n",
       "                                  p3  \n",
       "733                        chihuahua  \n",
       "2215                    newfoundland  \n",
       "294   american_staffordshire_terrier  \n",
       "1490                         bathtub  \n",
       "1306                golden_retriever  "
      ]
     },
     "execution_count": 64,
     "metadata": {},
     "output_type": "execute_result"
    }
   ],
   "source": [
    "#Check whether the words in the rows are lowercase\n",
    "twitter_archive_master[['p1','p2','p3']].sample(5)"
   ]
  },
  {
   "cell_type": "code",
   "execution_count": 65,
   "metadata": {},
   "outputs": [
    {
     "name": "stdout",
     "output_type": "stream",
     "text": [
      "<class 'pandas.core.frame.DataFrame'>\n",
      "Int64Index: 2059 entries, 0 to 2330\n",
      "Data columns (total 19 columns):\n",
      "favorite_count        2059 non-null int64\n",
      "retweet_count         2059 non-null int64\n",
      "tweet_id              2059 non-null int64\n",
      "timestamp             2059 non-null datetime64[ns]\n",
      "text                  2059 non-null object\n",
      "rating_numerator      2059 non-null int64\n",
      "rating_denominator    2059 non-null int64\n",
      "name                  2059 non-null object\n",
      "jpg_url               2059 non-null object\n",
      "img_num               2059 non-null float64\n",
      "p1                    2059 non-null object\n",
      "p1_conf               2059 non-null float64\n",
      "p1_dog                2059 non-null bool\n",
      "p2                    2059 non-null object\n",
      "p2_conf               2059 non-null float64\n",
      "p2_dog                2059 non-null bool\n",
      "p3                    2059 non-null object\n",
      "p3_conf               2059 non-null float64\n",
      "p3_dog                2059 non-null bool\n",
      "dtypes: bool(3), datetime64[ns](1), float64(4), int64(5), object(6)\n",
      "memory usage: 279.5+ KB\n"
     ]
    }
   ],
   "source": [
    "#Check info of the table again to make sure all columns have correct data type\n",
    "twitter_archive_master.info()"
   ]
  },
  {
   "cell_type": "markdown",
   "metadata": {},
   "source": [
    "#### Incorrect data"
   ]
  },
  {
   "cell_type": "markdown",
   "metadata": {},
   "source": [
    "##### Define  \n",
    "Change elements in rating_denominator to 10"
   ]
  },
  {
   "cell_type": "code",
   "execution_count": 66,
   "metadata": {},
   "outputs": [],
   "source": [
    "twitter_archive_master['rating_denominator']= 10"
   ]
  },
  {
   "cell_type": "markdown",
   "metadata": {},
   "source": [
    "##### Test  "
   ]
  },
  {
   "cell_type": "code",
   "execution_count": 67,
   "metadata": {},
   "outputs": [
    {
     "data": {
      "text/plain": [
       "10    2059\n",
       "Name: rating_denominator, dtype: int64"
      ]
     },
     "execution_count": 67,
     "metadata": {},
     "output_type": "execute_result"
    }
   ],
   "source": [
    "#Check whether the rating_denominators are all 10\n",
    "twitter_archive_master['rating_denominator'].value_counts()"
   ]
  },
  {
   "cell_type": "markdown",
   "metadata": {},
   "source": [
    "#### Outliers"
   ]
  },
  {
   "cell_type": "markdown",
   "metadata": {},
   "source": [
    "##### Define\n",
    "Drop outliers in rating_numerator， retweet_count and favorite_count"
   ]
  },
  {
   "cell_type": "markdown",
   "metadata": {},
   "source": [
    "##### Code"
   ]
  },
  {
   "cell_type": "code",
   "execution_count": 68,
   "metadata": {},
   "outputs": [
    {
     "data": {
      "text/html": [
       "<div>\n",
       "<style scoped>\n",
       "    .dataframe tbody tr th:only-of-type {\n",
       "        vertical-align: middle;\n",
       "    }\n",
       "\n",
       "    .dataframe tbody tr th {\n",
       "        vertical-align: top;\n",
       "    }\n",
       "\n",
       "    .dataframe thead th {\n",
       "        text-align: right;\n",
       "    }\n",
       "</style>\n",
       "<table border=\"1\" class=\"dataframe\">\n",
       "  <thead>\n",
       "    <tr style=\"text-align: right;\">\n",
       "      <th></th>\n",
       "      <th>favorite_count</th>\n",
       "      <th>retweet_count</th>\n",
       "      <th>tweet_id</th>\n",
       "      <th>rating_numerator</th>\n",
       "      <th>rating_denominator</th>\n",
       "      <th>img_num</th>\n",
       "      <th>p1_conf</th>\n",
       "      <th>p2_conf</th>\n",
       "      <th>p3_conf</th>\n",
       "    </tr>\n",
       "  </thead>\n",
       "  <tbody>\n",
       "    <tr>\n",
       "      <th>count</th>\n",
       "      <td>2059.000000</td>\n",
       "      <td>2059.000000</td>\n",
       "      <td>2.059000e+03</td>\n",
       "      <td>2059.000000</td>\n",
       "      <td>2059.0</td>\n",
       "      <td>2059.000000</td>\n",
       "      <td>2059.000000</td>\n",
       "      <td>2.059000e+03</td>\n",
       "      <td>2.059000e+03</td>\n",
       "    </tr>\n",
       "    <tr>\n",
       "      <th>mean</th>\n",
       "      <td>7740.083050</td>\n",
       "      <td>2484.088392</td>\n",
       "      <td>7.378345e+17</td>\n",
       "      <td>12.263720</td>\n",
       "      <td>10.0</td>\n",
       "      <td>1.203983</td>\n",
       "      <td>0.594176</td>\n",
       "      <td>1.347547e-01</td>\n",
       "      <td>6.043766e-02</td>\n",
       "    </tr>\n",
       "    <tr>\n",
       "      <th>std</th>\n",
       "      <td>11699.070379</td>\n",
       "      <td>4340.265907</td>\n",
       "      <td>6.758411e+16</td>\n",
       "      <td>40.838002</td>\n",
       "      <td>0.0</td>\n",
       "      <td>0.563002</td>\n",
       "      <td>0.271161</td>\n",
       "      <td>1.006942e-01</td>\n",
       "      <td>5.098573e-02</td>\n",
       "    </tr>\n",
       "    <tr>\n",
       "      <th>min</th>\n",
       "      <td>0.000000</td>\n",
       "      <td>11.000000</td>\n",
       "      <td>6.660209e+17</td>\n",
       "      <td>0.000000</td>\n",
       "      <td>10.0</td>\n",
       "      <td>1.000000</td>\n",
       "      <td>0.044333</td>\n",
       "      <td>1.011300e-08</td>\n",
       "      <td>1.740170e-10</td>\n",
       "    </tr>\n",
       "    <tr>\n",
       "      <th>25%</th>\n",
       "      <td>1466.500000</td>\n",
       "      <td>532.500000</td>\n",
       "      <td>6.762505e+17</td>\n",
       "      <td>10.000000</td>\n",
       "      <td>10.0</td>\n",
       "      <td>1.000000</td>\n",
       "      <td>0.363272</td>\n",
       "      <td>5.397835e-02</td>\n",
       "      <td>1.624950e-02</td>\n",
       "    </tr>\n",
       "    <tr>\n",
       "      <th>50%</th>\n",
       "      <td>3412.000000</td>\n",
       "      <td>1176.000000</td>\n",
       "      <td>7.113067e+17</td>\n",
       "      <td>11.000000</td>\n",
       "      <td>10.0</td>\n",
       "      <td>1.000000</td>\n",
       "      <td>0.587764</td>\n",
       "      <td>1.186220e-01</td>\n",
       "      <td>4.948690e-02</td>\n",
       "    </tr>\n",
       "    <tr>\n",
       "      <th>75%</th>\n",
       "      <td>9644.000000</td>\n",
       "      <td>2849.000000</td>\n",
       "      <td>7.928986e+17</td>\n",
       "      <td>12.000000</td>\n",
       "      <td>10.0</td>\n",
       "      <td>1.000000</td>\n",
       "      <td>0.843855</td>\n",
       "      <td>1.957615e-01</td>\n",
       "      <td>9.233995e-02</td>\n",
       "    </tr>\n",
       "    <tr>\n",
       "      <th>max</th>\n",
       "      <td>150944.000000</td>\n",
       "      <td>74577.000000</td>\n",
       "      <td>8.924206e+17</td>\n",
       "      <td>1776.000000</td>\n",
       "      <td>10.0</td>\n",
       "      <td>4.000000</td>\n",
       "      <td>1.000000</td>\n",
       "      <td>4.880140e-01</td>\n",
       "      <td>2.734190e-01</td>\n",
       "    </tr>\n",
       "  </tbody>\n",
       "</table>\n",
       "</div>"
      ],
      "text/plain": [
       "       favorite_count  retweet_count      tweet_id  rating_numerator  \\\n",
       "count     2059.000000    2059.000000  2.059000e+03       2059.000000   \n",
       "mean      7740.083050    2484.088392  7.378345e+17         12.263720   \n",
       "std      11699.070379    4340.265907  6.758411e+16         40.838002   \n",
       "min          0.000000      11.000000  6.660209e+17          0.000000   \n",
       "25%       1466.500000     532.500000  6.762505e+17         10.000000   \n",
       "50%       3412.000000    1176.000000  7.113067e+17         11.000000   \n",
       "75%       9644.000000    2849.000000  7.928986e+17         12.000000   \n",
       "max     150944.000000   74577.000000  8.924206e+17       1776.000000   \n",
       "\n",
       "       rating_denominator      img_num      p1_conf       p2_conf  \\\n",
       "count              2059.0  2059.000000  2059.000000  2.059000e+03   \n",
       "mean                 10.0     1.203983     0.594176  1.347547e-01   \n",
       "std                   0.0     0.563002     0.271161  1.006942e-01   \n",
       "min                  10.0     1.000000     0.044333  1.011300e-08   \n",
       "25%                  10.0     1.000000     0.363272  5.397835e-02   \n",
       "50%                  10.0     1.000000     0.587764  1.186220e-01   \n",
       "75%                  10.0     1.000000     0.843855  1.957615e-01   \n",
       "max                  10.0     4.000000     1.000000  4.880140e-01   \n",
       "\n",
       "            p3_conf  \n",
       "count  2.059000e+03  \n",
       "mean   6.043766e-02  \n",
       "std    5.098573e-02  \n",
       "min    1.740170e-10  \n",
       "25%    1.624950e-02  \n",
       "50%    4.948690e-02  \n",
       "75%    9.233995e-02  \n",
       "max    2.734190e-01  "
      ]
     },
     "execution_count": 68,
     "metadata": {},
     "output_type": "execute_result"
    }
   ],
   "source": [
    "twitter_archive_master.describe()"
   ]
  },
  {
   "cell_type": "code",
   "execution_count": 69,
   "metadata": {},
   "outputs": [],
   "source": [
    "#Put a filter on the data frame such that we select all rows where the values are within 1.5 standard deviations from mean\n",
    "twitter_archive_master= twitter_archive_master[(np.abs(stats.zscore(twitter_archive_master['favorite_count'])) < 1.5)]\n",
    "twitter_archive_master= twitter_archive_master[(np.abs(stats.zscore(twitter_archive_master['retweet_count'])) < 1.5)]\n",
    "twitter_archive_master= twitter_archive_master[(np.abs(stats.zscore(twitter_archive_master['rating_numerator'])) < 1.5)]"
   ]
  },
  {
   "cell_type": "markdown",
   "metadata": {},
   "source": [
    "##### Test  "
   ]
  },
  {
   "cell_type": "code",
   "execution_count": 70,
   "metadata": {},
   "outputs": [
    {
     "data": {
      "text/html": [
       "<div>\n",
       "<style scoped>\n",
       "    .dataframe tbody tr th:only-of-type {\n",
       "        vertical-align: middle;\n",
       "    }\n",
       "\n",
       "    .dataframe tbody tr th {\n",
       "        vertical-align: top;\n",
       "    }\n",
       "\n",
       "    .dataframe thead th {\n",
       "        text-align: right;\n",
       "    }\n",
       "</style>\n",
       "<table border=\"1\" class=\"dataframe\">\n",
       "  <thead>\n",
       "    <tr style=\"text-align: right;\">\n",
       "      <th></th>\n",
       "      <th>favorite_count</th>\n",
       "      <th>retweet_count</th>\n",
       "      <th>tweet_id</th>\n",
       "      <th>rating_numerator</th>\n",
       "      <th>rating_denominator</th>\n",
       "      <th>img_num</th>\n",
       "      <th>p1_conf</th>\n",
       "      <th>p2_conf</th>\n",
       "      <th>p3_conf</th>\n",
       "    </tr>\n",
       "  </thead>\n",
       "  <tbody>\n",
       "    <tr>\n",
       "      <th>count</th>\n",
       "      <td>1798.000000</td>\n",
       "      <td>1798.000000</td>\n",
       "      <td>1.798000e+03</td>\n",
       "      <td>1798.000000</td>\n",
       "      <td>1798.0</td>\n",
       "      <td>1798.000000</td>\n",
       "      <td>1798.000000</td>\n",
       "      <td>1.798000e+03</td>\n",
       "      <td>1.798000e+03</td>\n",
       "    </tr>\n",
       "    <tr>\n",
       "      <th>mean</th>\n",
       "      <td>4984.571746</td>\n",
       "      <td>1387.634594</td>\n",
       "      <td>7.286234e+17</td>\n",
       "      <td>10.464961</td>\n",
       "      <td>10.0</td>\n",
       "      <td>1.181313</td>\n",
       "      <td>0.587968</td>\n",
       "      <td>1.364103e-01</td>\n",
       "      <td>6.132775e-02</td>\n",
       "    </tr>\n",
       "    <tr>\n",
       "      <th>std</th>\n",
       "      <td>5171.525858</td>\n",
       "      <td>1187.131620</td>\n",
       "      <td>6.271894e+16</td>\n",
       "      <td>2.942341</td>\n",
       "      <td>0.0</td>\n",
       "      <td>0.526901</td>\n",
       "      <td>0.272162</td>\n",
       "      <td>1.012102e-01</td>\n",
       "      <td>5.151729e-02</td>\n",
       "    </tr>\n",
       "    <tr>\n",
       "      <th>min</th>\n",
       "      <td>0.000000</td>\n",
       "      <td>11.000000</td>\n",
       "      <td>6.660209e+17</td>\n",
       "      <td>0.000000</td>\n",
       "      <td>10.0</td>\n",
       "      <td>1.000000</td>\n",
       "      <td>0.044333</td>\n",
       "      <td>1.011300e-08</td>\n",
       "      <td>1.740170e-10</td>\n",
       "    </tr>\n",
       "    <tr>\n",
       "      <th>25%</th>\n",
       "      <td>1346.750000</td>\n",
       "      <td>482.000000</td>\n",
       "      <td>6.747835e+17</td>\n",
       "      <td>10.000000</td>\n",
       "      <td>10.0</td>\n",
       "      <td>1.000000</td>\n",
       "      <td>0.358967</td>\n",
       "      <td>5.663003e-02</td>\n",
       "      <td>1.646300e-02</td>\n",
       "    </tr>\n",
       "    <tr>\n",
       "      <th>50%</th>\n",
       "      <td>3040.500000</td>\n",
       "      <td>991.000000</td>\n",
       "      <td>7.033696e+17</td>\n",
       "      <td>11.000000</td>\n",
       "      <td>10.0</td>\n",
       "      <td>1.000000</td>\n",
       "      <td>0.584212</td>\n",
       "      <td>1.202435e-01</td>\n",
       "      <td>5.201180e-02</td>\n",
       "    </tr>\n",
       "    <tr>\n",
       "      <th>75%</th>\n",
       "      <td>7065.000000</td>\n",
       "      <td>1979.750000</td>\n",
       "      <td>7.727735e+17</td>\n",
       "      <td>12.000000</td>\n",
       "      <td>10.0</td>\n",
       "      <td>1.000000</td>\n",
       "      <td>0.839095</td>\n",
       "      <td>1.973697e-01</td>\n",
       "      <td>9.276225e-02</td>\n",
       "    </tr>\n",
       "    <tr>\n",
       "      <th>max</th>\n",
       "      <td>25184.000000</td>\n",
       "      <td>4917.000000</td>\n",
       "      <td>8.918152e+17</td>\n",
       "      <td>60.000000</td>\n",
       "      <td>10.0</td>\n",
       "      <td>4.000000</td>\n",
       "      <td>1.000000</td>\n",
       "      <td>4.880140e-01</td>\n",
       "      <td>2.734190e-01</td>\n",
       "    </tr>\n",
       "  </tbody>\n",
       "</table>\n",
       "</div>"
      ],
      "text/plain": [
       "       favorite_count  retweet_count      tweet_id  rating_numerator  \\\n",
       "count     1798.000000    1798.000000  1.798000e+03       1798.000000   \n",
       "mean      4984.571746    1387.634594  7.286234e+17         10.464961   \n",
       "std       5171.525858    1187.131620  6.271894e+16          2.942341   \n",
       "min          0.000000      11.000000  6.660209e+17          0.000000   \n",
       "25%       1346.750000     482.000000  6.747835e+17         10.000000   \n",
       "50%       3040.500000     991.000000  7.033696e+17         11.000000   \n",
       "75%       7065.000000    1979.750000  7.727735e+17         12.000000   \n",
       "max      25184.000000    4917.000000  8.918152e+17         60.000000   \n",
       "\n",
       "       rating_denominator      img_num      p1_conf       p2_conf  \\\n",
       "count              1798.0  1798.000000  1798.000000  1.798000e+03   \n",
       "mean                 10.0     1.181313     0.587968  1.364103e-01   \n",
       "std                   0.0     0.526901     0.272162  1.012102e-01   \n",
       "min                  10.0     1.000000     0.044333  1.011300e-08   \n",
       "25%                  10.0     1.000000     0.358967  5.663003e-02   \n",
       "50%                  10.0     1.000000     0.584212  1.202435e-01   \n",
       "75%                  10.0     1.000000     0.839095  1.973697e-01   \n",
       "max                  10.0     4.000000     1.000000  4.880140e-01   \n",
       "\n",
       "            p3_conf  \n",
       "count  1.798000e+03  \n",
       "mean   6.132775e-02  \n",
       "std    5.151729e-02  \n",
       "min    1.740170e-10  \n",
       "25%    1.646300e-02  \n",
       "50%    5.201180e-02  \n",
       "75%    9.276225e-02  \n",
       "max    2.734190e-01  "
      ]
     },
     "execution_count": 70,
     "metadata": {},
     "output_type": "execute_result"
    }
   ],
   "source": [
    "#Check the data frame one more time to see whether there are outliers\n",
    "twitter_archive_master.describe()"
   ]
  },
  {
   "cell_type": "code",
   "execution_count": 71,
   "metadata": {},
   "outputs": [],
   "source": [
    "#Save the cleaned data frame\n",
    "twitter_archive_master.to_csv('twitter_archive_master.csv',index=False)"
   ]
  },
  {
   "cell_type": "markdown",
   "metadata": {},
   "source": [
    "## Analyze"
   ]
  },
  {
   "cell_type": "code",
   "execution_count": 72,
   "metadata": {},
   "outputs": [],
   "source": [
    "#Read data frame\n",
    "df= pd.read_csv('twitter_archive_master.csv')"
   ]
  },
  {
   "cell_type": "code",
   "execution_count": 73,
   "metadata": {},
   "outputs": [
    {
     "data": {
      "text/html": [
       "<div>\n",
       "<style scoped>\n",
       "    .dataframe tbody tr th:only-of-type {\n",
       "        vertical-align: middle;\n",
       "    }\n",
       "\n",
       "    .dataframe tbody tr th {\n",
       "        vertical-align: top;\n",
       "    }\n",
       "\n",
       "    .dataframe thead th {\n",
       "        text-align: right;\n",
       "    }\n",
       "</style>\n",
       "<table border=\"1\" class=\"dataframe\">\n",
       "  <thead>\n",
       "    <tr style=\"text-align: right;\">\n",
       "      <th></th>\n",
       "      <th>favorite_count</th>\n",
       "      <th>retweet_count</th>\n",
       "      <th>tweet_id</th>\n",
       "      <th>timestamp</th>\n",
       "      <th>text</th>\n",
       "      <th>rating_numerator</th>\n",
       "      <th>rating_denominator</th>\n",
       "      <th>name</th>\n",
       "      <th>jpg_url</th>\n",
       "      <th>img_num</th>\n",
       "      <th>p1</th>\n",
       "      <th>p1_conf</th>\n",
       "      <th>p1_dog</th>\n",
       "      <th>p2</th>\n",
       "      <th>p2_conf</th>\n",
       "      <th>p2_dog</th>\n",
       "      <th>p3</th>\n",
       "      <th>p3_conf</th>\n",
       "      <th>p3_dog</th>\n",
       "    </tr>\n",
       "  </thead>\n",
       "  <tbody>\n",
       "    <tr>\n",
       "      <th>0</th>\n",
       "      <td>22846</td>\n",
       "      <td>3637</td>\n",
       "      <td>891815181378084864</td>\n",
       "      <td>2017-07-31 00:18:03</td>\n",
       "      <td>This is Archie. He is a rare Norwegian Pouncin...</td>\n",
       "      <td>12</td>\n",
       "      <td>10</td>\n",
       "      <td>Archie</td>\n",
       "      <td>https://pbs.twimg.com/media/DGBdLU1WsAANxJ9.jpg</td>\n",
       "      <td>1.0</td>\n",
       "      <td>chihuahua</td>\n",
       "      <td>0.716012</td>\n",
       "      <td>True</td>\n",
       "      <td>malamute</td>\n",
       "      <td>0.078253</td>\n",
       "      <td>True</td>\n",
       "      <td>kelpie</td>\n",
       "      <td>0.031379</td>\n",
       "      <td>True</td>\n",
       "    </tr>\n",
       "    <tr>\n",
       "      <th>1</th>\n",
       "      <td>18485</td>\n",
       "      <td>2733</td>\n",
       "      <td>891087950875897856</td>\n",
       "      <td>2017-07-29 00:08:17</td>\n",
       "      <td>Here we have a majestic great white breaching ...</td>\n",
       "      <td>13</td>\n",
       "      <td>10</td>\n",
       "      <td>None</td>\n",
       "      <td>https://pbs.twimg.com/media/DF3HwyEWsAABqE6.jpg</td>\n",
       "      <td>1.0</td>\n",
       "      <td>chesapeake_bay_retriever</td>\n",
       "      <td>0.425595</td>\n",
       "      <td>True</td>\n",
       "      <td>irish_terrier</td>\n",
       "      <td>0.116317</td>\n",
       "      <td>True</td>\n",
       "      <td>indian_elephant</td>\n",
       "      <td>0.076902</td>\n",
       "      <td>False</td>\n",
       "    </tr>\n",
       "    <tr>\n",
       "      <th>2</th>\n",
       "      <td>10745</td>\n",
       "      <td>1769</td>\n",
       "      <td>890971913173991426</td>\n",
       "      <td>2017-07-28 16:27:12</td>\n",
       "      <td>Meet Jax. He enjoys ice cream so much he gets ...</td>\n",
       "      <td>13</td>\n",
       "      <td>10</td>\n",
       "      <td>Jax</td>\n",
       "      <td>https://pbs.twimg.com/media/DF1eOmZXUAALUcq.jpg</td>\n",
       "      <td>1.0</td>\n",
       "      <td>appenzeller</td>\n",
       "      <td>0.341703</td>\n",
       "      <td>True</td>\n",
       "      <td>border_collie</td>\n",
       "      <td>0.199287</td>\n",
       "      <td>True</td>\n",
       "      <td>ice_lolly</td>\n",
       "      <td>0.193548</td>\n",
       "      <td>False</td>\n",
       "    </tr>\n",
       "    <tr>\n",
       "      <th>3</th>\n",
       "      <td>24566</td>\n",
       "      <td>3920</td>\n",
       "      <td>889638837579907072</td>\n",
       "      <td>2017-07-25 00:10:02</td>\n",
       "      <td>This is Ted. He does his best. Sometimes that'...</td>\n",
       "      <td>12</td>\n",
       "      <td>10</td>\n",
       "      <td>Ted</td>\n",
       "      <td>https://pbs.twimg.com/media/DFihzFfXsAYGDPR.jpg</td>\n",
       "      <td>1.0</td>\n",
       "      <td>french_bulldog</td>\n",
       "      <td>0.991650</td>\n",
       "      <td>True</td>\n",
       "      <td>boxer</td>\n",
       "      <td>0.002129</td>\n",
       "      <td>True</td>\n",
       "      <td>staffordshire_bullterrier</td>\n",
       "      <td>0.001498</td>\n",
       "      <td>True</td>\n",
       "    </tr>\n",
       "    <tr>\n",
       "      <th>4</th>\n",
       "      <td>13843</td>\n",
       "      <td>1979</td>\n",
       "      <td>889531135344209921</td>\n",
       "      <td>2017-07-24 17:02:04</td>\n",
       "      <td>This is Stuart. He's sporting his favorite fan...</td>\n",
       "      <td>13</td>\n",
       "      <td>10</td>\n",
       "      <td>Stuart</td>\n",
       "      <td>https://pbs.twimg.com/media/DFg_2PVW0AEHN3p.jpg</td>\n",
       "      <td>1.0</td>\n",
       "      <td>golden_retriever</td>\n",
       "      <td>0.953442</td>\n",
       "      <td>True</td>\n",
       "      <td>labrador_retriever</td>\n",
       "      <td>0.013834</td>\n",
       "      <td>True</td>\n",
       "      <td>redbone</td>\n",
       "      <td>0.007958</td>\n",
       "      <td>True</td>\n",
       "    </tr>\n",
       "  </tbody>\n",
       "</table>\n",
       "</div>"
      ],
      "text/plain": [
       "   favorite_count  retweet_count            tweet_id            timestamp  \\\n",
       "0           22846           3637  891815181378084864  2017-07-31 00:18:03   \n",
       "1           18485           2733  891087950875897856  2017-07-29 00:08:17   \n",
       "2           10745           1769  890971913173991426  2017-07-28 16:27:12   \n",
       "3           24566           3920  889638837579907072  2017-07-25 00:10:02   \n",
       "4           13843           1979  889531135344209921  2017-07-24 17:02:04   \n",
       "\n",
       "                                                text  rating_numerator  \\\n",
       "0  This is Archie. He is a rare Norwegian Pouncin...                12   \n",
       "1  Here we have a majestic great white breaching ...                13   \n",
       "2  Meet Jax. He enjoys ice cream so much he gets ...                13   \n",
       "3  This is Ted. He does his best. Sometimes that'...                12   \n",
       "4  This is Stuart. He's sporting his favorite fan...                13   \n",
       "\n",
       "   rating_denominator    name  \\\n",
       "0                  10  Archie   \n",
       "1                  10    None   \n",
       "2                  10     Jax   \n",
       "3                  10     Ted   \n",
       "4                  10  Stuart   \n",
       "\n",
       "                                           jpg_url  img_num  \\\n",
       "0  https://pbs.twimg.com/media/DGBdLU1WsAANxJ9.jpg      1.0   \n",
       "1  https://pbs.twimg.com/media/DF3HwyEWsAABqE6.jpg      1.0   \n",
       "2  https://pbs.twimg.com/media/DF1eOmZXUAALUcq.jpg      1.0   \n",
       "3  https://pbs.twimg.com/media/DFihzFfXsAYGDPR.jpg      1.0   \n",
       "4  https://pbs.twimg.com/media/DFg_2PVW0AEHN3p.jpg      1.0   \n",
       "\n",
       "                         p1   p1_conf  p1_dog                  p2   p2_conf  \\\n",
       "0                 chihuahua  0.716012    True            malamute  0.078253   \n",
       "1  chesapeake_bay_retriever  0.425595    True       irish_terrier  0.116317   \n",
       "2               appenzeller  0.341703    True       border_collie  0.199287   \n",
       "3            french_bulldog  0.991650    True               boxer  0.002129   \n",
       "4          golden_retriever  0.953442    True  labrador_retriever  0.013834   \n",
       "\n",
       "   p2_dog                         p3   p3_conf  p3_dog  \n",
       "0    True                     kelpie  0.031379    True  \n",
       "1    True            indian_elephant  0.076902   False  \n",
       "2    True                  ice_lolly  0.193548   False  \n",
       "3    True  staffordshire_bullterrier  0.001498    True  \n",
       "4    True                    redbone  0.007958    True  "
      ]
     },
     "execution_count": 73,
     "metadata": {},
     "output_type": "execute_result"
    }
   ],
   "source": [
    "#Check the data frame\n",
    "df.head()"
   ]
  },
  {
   "cell_type": "markdown",
   "metadata": {},
   "source": [
    "The first question I want to ask is whether a dog with a high rating(rating_numerator) is related with the favorite_count?"
   ]
  },
  {
   "cell_type": "code",
   "execution_count": 74,
   "metadata": {},
   "outputs": [
    {
     "data": {
      "image/png": "[encoded data removed]",
      "text/plain": [
       "<matplotlib.figure.Figure at 0x7f496fb0c9b0>"
      ]
     },
     "metadata": {
      "needs_background": "light"
     },
     "output_type": "display_data"
    }
   ],
   "source": [
    "#Plot the rating_numerator with favorite_count0\n",
    "plt.scatter(x= df['rating_numerator'], y= df['favorite_count'], color= 'steelblue')\n",
    "plt.xlabel('rating_numerator')\n",
    "plt.ylabel('favorite_count')\n",
    "plt.grid()\n",
    "plt.title('Relation Between Dog Ratings and the Favorite Counts');"
   ]
  },
  {
   "cell_type": "markdown",
   "metadata": {},
   "source": [
    "From the plot we could see that except the outliers which have a rating_numerator larger than 20, most of the dogs whose rating_numerator are higher than 10 have more favorite counts than the ones have ratings lower than 10. Next, I am going to drop the outliers and plot again."
   ]
  },
  {
   "cell_type": "code",
   "execution_count": 75,
   "metadata": {},
   "outputs": [
    {
     "data": {
      "image/png": "[encoded data removed]",
      "text/plain": [
       "<matplotlib.figure.Figure at 0x7f496fe624e0>"
      ]
     },
     "metadata": {
      "needs_background": "light"
     },
     "output_type": "display_data"
    }
   ],
   "source": [
    "#Drop outliers and plot again\n",
    "plt.scatter(x= df.query('rating_numerator<=20')['rating_numerator'], y= df.query('rating_numerator<=20')['favorite_count'], color= 'steelblue')\n",
    "plt.xlabel('rating_numerator')\n",
    "plt.ylabel('favorite_count')\n",
    "plt.grid()\n",
    "plt.title('Relation Between Dog Ratings and the Favorite Counts');"
   ]
  },
  {
   "cell_type": "markdown",
   "metadata": {},
   "source": [
    "From the revised plot we could say that in genernal, dogs with higher ratings will get more favorite count."
   ]
  },
  {
   "cell_type": "markdown",
   "metadata": {},
   "source": [
    "The second question I want to ask is if people like a dog, whether they will retweet the twitter of this dog?"
   ]
  },
  {
   "cell_type": "code",
   "execution_count": 76,
   "metadata": {},
   "outputs": [
    {
     "data": {
      "image/png": "[encoded data removed]",
      "text/plain": [
       "<matplotlib.figure.Figure at 0x7f496fe65940>"
      ]
     },
     "metadata": {
      "needs_background": "light"
     },
     "output_type": "display_data"
    }
   ],
   "source": [
    "#Plot retweet and favorite\n",
    "plt.scatter(x= df['favorite_count'], y= df['retweet_count'], color= 'steelblue')\n",
    "plt.ylabel('retweet_count')\n",
    "plt.xlabel('favorite_count')\n",
    "plt.grid()\n",
    "plt.title('Relation Between the Favorite Counts and the Retweet Counts');"
   ]
  },
  {
   "cell_type": "markdown",
   "metadata": {},
   "source": [
    "It is clear that the more favorite count is related with the more retweet count. The data with 0 favorite count are the outliers. Next, I am going to drop the ourliers and plot again."
   ]
  },
  {
   "cell_type": "code",
   "execution_count": 77,
   "metadata": {},
   "outputs": [
    {
     "data": {
      "image/png": "[encoded data removed]",
      "text/plain": [
       "<matplotlib.figure.Figure at 0x7f496fef8da0>"
      ]
     },
     "metadata": {
      "needs_background": "light"
     },
     "output_type": "display_data"
    }
   ],
   "source": [
    "#Drop the outliers and plot again\n",
    "plt.scatter(x= df.query('favorite_count!=0')['favorite_count'], y= df.query('favorite_count!=0')['retweet_count'], color= 'steelblue')\n",
    "plt.ylabel('retweet_count')\n",
    "plt.xlabel('favorite_count')\n",
    "plt.grid()\n",
    "plt.title('Relation Between the Favorite Counts and the Retweet Counts');"
   ]
  },
  {
   "cell_type": "markdown",
   "metadata": {},
   "source": [
    "After the ourliers removed, it is clear to say that the retweet count has a positive relation with the favorite count."
   ]
  },
  {
   "cell_type": "code",
   "execution_count": 78,
   "metadata": {},
   "outputs": [
    {
     "data": {
      "image/png": "[encoded data removed]",
      "text/plain": [
       "<matplotlib.figure.Figure at 0x7f4971096080>"
      ]
     },
     "metadata": {
      "needs_background": "light"
     },
     "output_type": "display_data"
    }
   ],
   "source": [
    "#Plot rating_numerator and retweet_count\n",
    "plt.scatter(x= df['rating_numerator'], y= df['retweet_count'], color= 'steelblue')\n",
    "plt.ylabel('retweet_count')\n",
    "plt.xlabel('rating_numerator')\n",
    "plt.grid()\n",
    "plt.title('Relation Between the Rating Numerator and the Retweet Counts');"
   ]
  },
  {
   "cell_type": "markdown",
   "metadata": {},
   "source": [
    "We also plot the retweet count and the rating numerator, it is clear the rating numerators which larger than 20 are outliers and should be deleted."
   ]
  },
  {
   "cell_type": "code",
   "execution_count": 79,
   "metadata": {},
   "outputs": [
    {
     "data": {
      "image/png": "[encoded data removed]",
      "text/plain": [
       "<matplotlib.figure.Figure at 0x7f4971091f28>"
      ]
     },
     "metadata": {
      "needs_background": "light"
     },
     "output_type": "display_data"
    }
   ],
   "source": [
    "#Drop outliers and plot again\n",
    "plt.scatter(x= df.query('rating_numerator<=20')['rating_numerator'], y= df.query('rating_numerator<=20')['retweet_count'], color= 'steelblue')\n",
    "plt.ylabel('retweet_count')\n",
    "plt.xlabel('rating_numerator')\n",
    "plt.grid()\n",
    "plt.title('Relation Between the Rating Numerator and the Retweet Counts');"
   ]
  },
  {
   "cell_type": "markdown",
   "metadata": {},
   "source": [
    "From this revised plot it is not hard to find that dogs with higher rating numerator have more chance to have more retweet_count."
   ]
  },
  {
   "cell_type": "code",
   "execution_count": 80,
   "metadata": {},
   "outputs": [
    {
     "data": {
      "text/html": [
       "<table class=\"simpletable\">\n",
       "<tr>\n",
       "        <td>Model:</td>               <td>OLS</td>         <td>Adj. R-squared:</td>      <td>0.709</td>  \n",
       "</tr>\n",
       "<tr>\n",
       "  <td>Dependent Variable:</td>   <td>retweet_count</td>         <td>AIC:</td>         <td>28340.8659</td>\n",
       "</tr>\n",
       "<tr>\n",
       "         <td>Date:</td>        <td>2021-02-13 20:27</td>        <td>BIC:</td>         <td>28357.3492</td>\n",
       "</tr>\n",
       "<tr>\n",
       "   <td>No. Observations:</td>        <td>1798</td>         <td>Log-Likelihood:</td>     <td>-14167.</td> \n",
       "</tr>\n",
       "<tr>\n",
       "       <td>Df Model:</td>              <td>2</td>           <td>F-statistic:</td>        <td>2194.</td>  \n",
       "</tr>\n",
       "<tr>\n",
       "     <td>Df Residuals:</td>          <td>1795</td>       <td>Prob (F-statistic):</td>    <td>0.00</td>   \n",
       "</tr>\n",
       "<tr>\n",
       "      <td>R-squared:</td>            <td>0.710</td>            <td>Scale:</td>        <td>4.0958e+05</td>\n",
       "</tr>\n",
       "</table>\n",
       "<table class=\"simpletable\">\n",
       "<tr>\n",
       "          <td></td>           <th>Coef.</th>  <th>Std.Err.</th>    <th>t</th>     <th>P>|t|</th>  <th>[0.025</th>   <th>0.975]</th> \n",
       "</tr>\n",
       "<tr>\n",
       "  <th>intercept</th>        <td>361.5038</td>  <td>55.7804</td> <td>6.4808</td>  <td>0.0000</td> <td>252.1026</td> <td>470.9051</td>\n",
       "</tr>\n",
       "<tr>\n",
       "  <th>favorite_count</th>    <td>0.1923</td>   <td>0.0030</td>  <td>63.1994</td> <td>0.0000</td>  <td>0.1863</td>   <td>0.1983</td> \n",
       "</tr>\n",
       "<tr>\n",
       "  <th>rating_numerator</th>  <td>6.4531</td>   <td>5.3484</td>  <td>1.2065</td>  <td>0.2278</td>  <td>-4.0366</td>  <td>16.9428</td>\n",
       "</tr>\n",
       "</table>\n",
       "<table class=\"simpletable\">\n",
       "<tr>\n",
       "     <td>Omnibus:</td>    <td>994.817</td>  <td>Durbin-Watson:</td>     <td>1.659</td>  \n",
       "</tr>\n",
       "<tr>\n",
       "  <td>Prob(Omnibus):</td>  <td>0.000</td>  <td>Jarque-Bera (JB):</td> <td>10228.901</td>\n",
       "</tr>\n",
       "<tr>\n",
       "       <td>Skew:</td>      <td>2.410</td>      <td>Prob(JB):</td>       <td>0.000</td>  \n",
       "</tr>\n",
       "<tr>\n",
       "     <td>Kurtosis:</td>   <td>13.645</td>   <td>Condition No.:</td>     <td>26646</td>  \n",
       "</tr>\n",
       "</table>"
      ],
      "text/plain": [
       "<class 'statsmodels.iolib.summary2.Summary'>\n",
       "\"\"\"\n",
       "                  Results: Ordinary least squares\n",
       "===================================================================\n",
       "Model:              OLS              Adj. R-squared:     0.709     \n",
       "Dependent Variable: retweet_count    AIC:                28340.8659\n",
       "Date:               2021-02-13 20:27 BIC:                28357.3492\n",
       "No. Observations:   1798             Log-Likelihood:     -14167.   \n",
       "Df Model:           2                F-statistic:        2194.     \n",
       "Df Residuals:       1795             Prob (F-statistic): 0.00      \n",
       "R-squared:          0.710            Scale:              4.0958e+05\n",
       "-------------------------------------------------------------------\n",
       "                  Coef.   Std.Err.    t    P>|t|   [0.025   0.975] \n",
       "-------------------------------------------------------------------\n",
       "intercept        361.5038  55.7804  6.4808 0.0000 252.1026 470.9051\n",
       "favorite_count     0.1923   0.0030 63.1994 0.0000   0.1863   0.1983\n",
       "rating_numerator   6.4531   5.3484  1.2065 0.2278  -4.0366  16.9428\n",
       "-------------------------------------------------------------------\n",
       "Omnibus:              994.817      Durbin-Watson:         1.659    \n",
       "Prob(Omnibus):        0.000        Jarque-Bera (JB):      10228.901\n",
       "Skew:                 2.410        Prob(JB):              0.000    \n",
       "Kurtosis:             13.645       Condition No.:         26646    \n",
       "===================================================================\n",
       "* The condition number is large (3e+04). This might indicate\n",
       "strong multicollinearity or other numerical problems.\n",
       "\"\"\""
      ]
     },
     "execution_count": 80,
     "metadata": {},
     "output_type": "execute_result"
    }
   ],
   "source": [
    "#Use linear regression to test whether favorite_count and rating_numerator influence the retweet_count\n",
    "df['intercept']= 1\n",
    "lm= sm.OLS(df['retweet_count'],df[['intercept', 'favorite_count', 'rating_numerator']])\n",
    "results= lm.fit()\n",
    "results.summary2()"
   ]
  },
  {
   "cell_type": "markdown",
   "metadata": {},
   "source": [
    "For each additional unit increase in the favorite_count, the retweet_count is expected to increase by 0.19 as long as all the other varibales stay the same. The P-value suggests that this is statistically significant. For each additional unit increase in the rating_numerator, the retweet_count is expected to increase by 6.5 as long as all the other varibales stay the same. However, the P-value suggests that this is statistically insignificant."
   ]
  },
  {
   "cell_type": "markdown",
   "metadata": {},
   "source": [
    "Last question I want to ask is wheter the algorithm could predict the picture to be a dog?"
   ]
  },
  {
   "cell_type": "code",
   "execution_count": 81,
   "metadata": {},
   "outputs": [],
   "source": [
    "#Calculate the possibility the algorithm predict a pic to be a dog\n",
    "p1_true= df.query('p1_dog==True').shape[0]/df.shape[0]\n",
    "p2_true= df.query('p2_dog==True').shape[0]/df.shape[0]\n",
    "p3_true= df.query('p3_dog==True').shape[0]/df.shape[0]"
   ]
  },
  {
   "cell_type": "code",
   "execution_count": 82,
   "metadata": {},
   "outputs": [
    {
     "data": {
      "image/png": "[encoded data removed]",
      "text/plain": [
       "<matplotlib.figure.Figure at 0x7f49720f2160>"
      ]
     },
     "metadata": {
      "needs_background": "light"
     },
     "output_type": "display_data"
    }
   ],
   "source": [
    "x_label= np.array([1,2,3])\n",
    "y_label= np.array([p1_true, p2_true, p3_true])\n",
    "plt.xticks(x_label,['p1_dog', 'p2_dog', 'p3_dog'])\n",
    "plt.title('Probability of Predicting the Picture to be a Dog')\n",
    "plt.xlabel('Tests')\n",
    "plt.ylabel('Probability')\n",
    "plt.grid()\n",
    "plt.scatter(x= x_label,y= y_label);"
   ]
  },
  {
   "cell_type": "markdown",
   "metadata": {},
   "source": [
    "From this plot we could see the success rate of predciting the picture to be a dog is around 74%. It is not a very high rate. The algorithm needs to be improved."
   ]
  },
  {
   "cell_type": "markdown",
   "metadata": {},
   "source": [
    "Conclusion: In this project, we analyzed which factor influence the retweet_count and whether the algorithm is good at predicting whether a image is a dog. We used linear regression to find that favorite_count has a positive influence on retweet_count. Also we found the algorithm could figure out whether a image is the picture of dog with a success rate above 70%."
   ]
  }
 ],
 "metadata": {
  "kernelspec": {
   "display_name": "Python 3",
   "language": "python",
   "name": "python3"
  },
  "language_info": {
   "codemirror_mode": {
    "name": "ipython",
    "version": 3
   },
   "file_extension": ".py",
   "mimetype": "text/x-python",
   "name": "python",
   "nbconvert_exporter": "python",
   "pygments_lexer": "ipython3",
   "version": "3.6.3"
  }
 },
 "nbformat": 4,
 "nbformat_minor": 2
}
